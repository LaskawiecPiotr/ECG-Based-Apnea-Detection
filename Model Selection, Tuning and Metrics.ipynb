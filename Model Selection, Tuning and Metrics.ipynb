{
 "cells": [
  {
   "cell_type": "code",
   "execution_count": null,
   "id": "d318b243",
   "metadata": {},
   "outputs": [],
   "source": [
    "# =============================================================================\n",
    "# Model Selection and Hyperparameter Tuning for ECG Apnea Detection\n",
    "# =============================================================================\n",
    "# This script:\n",
    "#   - Loads preprocessed features for different signal interval lengths (60s, 90s, 120s)\n",
    "#   - Performs model selection using un-tuned classifiers via 5-fold cross-validation\n",
    "#   - Tunes hyperparameters for the top three models (Linear SVM, Gradient Boosting, AdaBoost)\n",
    "#   - Retrains a selected model and then reduces the feature space based on feature importance\n",
    "#   - Evaluates the final model using various metrics (classification report, ROC, confusion matrix)\n",
    "#\n",
    "# Make sure that the feature files and \"Feature Names\" pickle file exist in the \n",
    "# specified directories.\n",
    "#\n",
    "# ============================================================================="
   ]
  },
  {
   "cell_type": "code",
   "execution_count": 3,
   "id": "53393609-b3dd-4a69-994d-050a97c20098",
   "metadata": {},
   "outputs": [],
   "source": [
    "import pickle\n",
    "import numpy as np\n",
    "import pandas as pd\n",
    "import matplotlib.pyplot as plt\n",
    "import seaborn as sns\n",
    "import warnings\n",
    "\n",
    "from sklearn.ensemble import (RandomForestClassifier, GradientBoostingClassifier, \n",
    "                              AdaBoostClassifier, ExtraTreesClassifier, BaggingClassifier, \n",
    "                              HistGradientBoostingClassifier)\n",
    "from sklearn.metrics import classification_report, confusion_matrix, roc_curve, roc_auc_score\n",
    "from sklearn.pipeline import make_pipeline, Pipeline\n",
    "from sklearn.preprocessing import StandardScaler\n",
    "from sklearn.model_selection import cross_val_score, StratifiedKFold, GridSearchCV\n",
    "from sklearn.discriminant_analysis import QuadraticDiscriminantAnalysis\n",
    "from sklearn.naive_bayes import GaussianNB, BernoulliNB\n",
    "from sklearn.neighbors import KNeighborsClassifier\n",
    "from sklearn.svm import SVC\n",
    "from sklearn.tree import DecisionTreeClassifier\n",
    "from sklearn.neural_network import MLPClassifier\n",
    "from xgboost import XGBClassifier\n",
    "from lightgbm import LGBMClassifier\n",
    "from sklearn.exceptions import FitFailedWarning\n",
    "from sklearn.feature_selection import SelectKBest, f_classif\n",
    "\n",
    "# ----------------------------\n",
    "# Suppress Unnecessary Warnings\n",
    "# ----------------------------\n",
    "warnings.simplefilter(action='ignore', category=FutureWarning)\n",
    "warnings.simplefilter(action='ignore', category=UserWarning)\n",
    "warnings.simplefilter(action='ignore', category=FitFailedWarning)"
   ]
  },
  {
   "cell_type": "code",
   "execution_count": null,
   "id": "278a035a-2515-4232-88f9-35508d637d04",
   "metadata": {
    "scrolled": true
   },
   "outputs": [
    {
     "name": "stdout",
     "output_type": "stream",
     "text": [
      "\n",
      "Testing for 60s intervals\n",
      "Nearest Neighbors: CV Accuracy = 0.6854\n",
      "Linear SVM: CV Accuracy = 0.7506\n",
      "RBF SVM: CV Accuracy = 0.5955\n",
      "Decision Tree: CV Accuracy = 0.7212\n",
      "Random Forest: CV Accuracy = 0.7285\n",
      "AdaBoost: CV Accuracy = 0.7438\n",
      "Gradient Boosting: CV Accuracy = 0.7445\n",
      "XGBoost: CV Accuracy = 0.7306\n",
      "LGBM: CV Accuracy = 0.7389\n",
      "Extra Trees: CV Accuracy = 0.7262\n",
      "Bagging Classifier: CV Accuracy = 0.7149\n",
      "HistGradientBoosting: CV Accuracy = 0.7430\n",
      "Gaussian Naive Bayes: CV Accuracy = 0.6478\n",
      "Bernoulli Naive Bayes: CV Accuracy = 0.6922\n",
      "Quadratic Discriminant Analysis: CV Accuracy = 0.5803\n",
      "Neural Network (MLP): CV Accuracy = 0.7099\n",
      "\n",
      "Best Model Selected for Tuning (based on CV): Linear SVM with CV accuracy of 0.7506\n",
      "Second Best Model Selected for Tuning (based on CV): Gradient Boosting with CV accuracy of 0.7445\n",
      "Third Best Model Selected for Tuning (based on CV): AdaBoost with CV accuracy of 0.7438\n",
      "\n",
      "Testing for 90s intervals\n",
      "Nearest Neighbors: CV Accuracy = 0.6947\n",
      "Linear SVM: CV Accuracy = 0.7701\n",
      "RBF SVM: CV Accuracy = 0.6030\n",
      "Decision Tree: CV Accuracy = 0.7440\n",
      "Random Forest: CV Accuracy = 0.7335\n",
      "AdaBoost: CV Accuracy = 0.7506\n",
      "Gradient Boosting: CV Accuracy = 0.7589\n",
      "XGBoost: CV Accuracy = 0.7444\n",
      "LGBM: CV Accuracy = 0.7510\n",
      "Extra Trees: CV Accuracy = 0.7311\n",
      "Bagging Classifier: CV Accuracy = 0.7246\n",
      "HistGradientBoosting: CV Accuracy = 0.7479\n",
      "Gaussian Naive Bayes: CV Accuracy = 0.6542\n",
      "Bernoulli Naive Bayes: CV Accuracy = 0.6960\n",
      "Quadratic Discriminant Analysis: CV Accuracy = 0.6062\n",
      "Neural Network (MLP): CV Accuracy = 0.7265\n",
      "\n",
      "Best Model Selected for Tuning (based on CV): Linear SVM with CV accuracy of 0.7701\n",
      "Second Best Model Selected for Tuning (based on CV): Gradient Boosting with CV accuracy of 0.7589\n",
      "Third Best Model Selected for Tuning (based on CV): LGBM with CV accuracy of 0.7510\n",
      "\n",
      "Testing for 120s intervals\n",
      "Nearest Neighbors: CV Accuracy = 0.6898\n",
      "Linear SVM: CV Accuracy = 0.7792\n",
      "RBF SVM: CV Accuracy = 0.6043\n",
      "Decision Tree: CV Accuracy = 0.7530\n",
      "Random Forest: CV Accuracy = 0.7269\n",
      "AdaBoost: CV Accuracy = 0.7653\n",
      "Gradient Boosting: CV Accuracy = 0.7722\n",
      "XGBoost: CV Accuracy = 0.7540\n",
      "LGBM: CV Accuracy = 0.7618\n",
      "Extra Trees: CV Accuracy = 0.7457\n",
      "Bagging Classifier: CV Accuracy = 0.7337\n",
      "HistGradientBoosting: CV Accuracy = 0.7632\n",
      "Gaussian Naive Bayes: CV Accuracy = 0.6531\n",
      "Bernoulli Naive Bayes: CV Accuracy = 0.6959\n",
      "Quadratic Discriminant Analysis: CV Accuracy = 0.5810\n",
      "Neural Network (MLP): CV Accuracy = 0.7376\n",
      "\n",
      "Best Model Selected for Tuning (based on CV): Linear SVM with CV accuracy of 0.7792\n",
      "Second Best Model Selected for Tuning (based on CV): Gradient Boosting with CV accuracy of 0.7722\n",
      "Third Best Model Selected for Tuning (based on CV): AdaBoost with CV accuracy of 0.7653\n"
     ]
    }
   ],
   "source": [
    "#  Model Selection: Evaluate Different Signal Intervals (60s, 90s, 120s)\n",
    "\n",
    "for i in [60, 90, 120]:\n",
    "    # Load training and testing data for the given interval\n",
    "    X_train = np.load(f\"Extracted Features and supplemental files/features_cleaned_{i}s_train.npy\")\n",
    "    y_train = np.load(f\"Extracted Features and supplemental files/labels_cleaned_{i}s_train.npy\")\n",
    "    X_test = np.load(f\"Extracted Features and supplemental files/features_cleaned_{i}s_test.npy\")\n",
    "    y_test = np.load(f\"Extracted Features and supplemental files/labels_cleaned_{i}s_test.npy\")\n",
    "    \n",
    "    print(f\"\\nTesting for {i}s intervals\")\n",
    "    names = [\n",
    "        \"Nearest Neighbors\",\n",
    "        \"Linear SVM\",\n",
    "        \"RBF SVM\",\n",
    "        \"Decision Tree\",\n",
    "        \"Random Forest\",\n",
    "        \"AdaBoost\",\n",
    "        \"Gradient Boosting\",\n",
    "        \"XGBoost\",\n",
    "        \"LGBM\",\n",
    "        \"Extra Trees\",\n",
    "        \"Bagging Classifier\",\n",
    "        \"HistGradientBoosting\",\n",
    "        \"Gaussian Naive Bayes\",\n",
    "        \"Bernoulli Naive Bayes\",\n",
    "        \"Quadratic Discriminant Analysis\",\n",
    "        \"Neural Network (MLP)\"\n",
    "    ]\n",
    "    # Define corresponding classifier objects (using default or simple hyperparameters)\n",
    "    classifiers = [\n",
    "        KNeighborsClassifier(3),\n",
    "        SVC(kernel=\"linear\", C=0.025, random_state=42),\n",
    "        SVC(gamma=2, C=1, random_state=42),\n",
    "        DecisionTreeClassifier(max_depth=5, random_state=42),\n",
    "        RandomForestClassifier(max_depth=5, n_estimators=10, max_features=1, random_state=42),\n",
    "        AdaBoostClassifier(random_state=42),\n",
    "        GradientBoostingClassifier(random_state=42),\n",
    "        XGBClassifier(),\n",
    "        LGBMClassifier(random_state=42, verbosity=-1),\n",
    "        ExtraTreesClassifier(n_estimators=100, random_state=42),\n",
    "        BaggingClassifier(random_state=42),\n",
    "        HistGradientBoostingClassifier(random_state=42),\n",
    "        GaussianNB(),\n",
    "        BernoulliNB(),\n",
    "        QuadraticDiscriminantAnalysis(),\n",
    "        MLPClassifier(random_state=42, max_iter=1000)\n",
    "    ]\n",
    "    \n",
    "    results = {}  # Dictionary to hold CV accuracy for each model\n",
    "\n",
    "    # Evaluate each classifier using a pipeline with scaling and feature selection\n",
    "    for name, clf in zip(names, classifiers):\n",
    "        # Create pipeline with StandardScaler, SelectKBest, and the classifier\n",
    "        pipe = make_pipeline(StandardScaler(), SelectKBest(score_func=f_classif, k=40), clf)\n",
    "    \n",
    "        # 5-fold cross-validation on training data\n",
    "        scores = cross_val_score(pipe, X_train, y_train, cv=5, scoring='accuracy', error_score='raise')\n",
    "        avg_cv_score = np.mean(scores)\n",
    "    \n",
    "        results[name] = avg_cv_score\n",
    "        print(f\"{name}: CV Accuracy = {avg_cv_score:.4f}\")\n",
    "    \n",
    "    # Select best model based solely on CV accuracy\n",
    "    sorted_models = sorted(results, key=lambda x: results[x], reverse=True)\n",
    "    print(f\"\\nBest Model Selected for Tuning (based on CV): {sorted_models[0]} with CV accuracy of {results[sorted_models[0]]:.4f}\")\n",
    "    print(f\"Second Best Model Selected for Tuning (based on CV): {sorted_models[1]} with CV accuracy of {results[sorted_models[1]]:.4f}\")\n",
    "    print(f\"Third Best Model Selected for Tuning (based on CV): {sorted_models[2]} with CV accuracy of {results[sorted_models[2]]:.4f}\")\n"
   ]
  },
  {
   "cell_type": "code",
   "execution_count": null,
   "id": "effc26d7-37c6-4a9a-86e9-c2c7c1184145",
   "metadata": {},
   "outputs": [],
   "source": [
    "# Load the 120s interval training and testing data for tuning\n",
    "X_train = np.load(\"Extracted Features and supplemental files/features_cleaned_120s_train.npy\")\n",
    "y_train = np.load(\"Extracted Features and supplemental files/labels_cleaned_120s_train.npy\")\n",
    "X_test  = np.load(\"Extracted Features and supplemental files/features_cleaned_120s_test.npy\")\n",
    "y_test  = np.load(\"Extracted Features and supplemental files/labels_cleaned_120s_test.npy\")\n",
    "\n",
    "# --- Tuning Linear SVM ---\n",
    "pipe_svm = Pipeline([\n",
    "    ('scaler', StandardScaler()),\n",
    "    ('selectkbest', SelectKBest(score_func=f_classif)),\n",
    "    ('svc', SVC(kernel=\"linear\", random_state=42))\n",
    "])\n",
    "param_grid_svm = {\n",
    "    'selectkbest__k': [30, 40, 50, 'all'],\n",
    "    'svc__C': [0.01, 0.1, 1, 10, 100]\n",
    "}\n",
    "grid_svm = GridSearchCV(pipe_svm, param_grid_svm, cv=5, scoring='accuracy', n_jobs=-1)\n",
    "grid_svm.fit(X_train, y_train)\n",
    "print(\"Best parameters for Linear SVM:\", grid_svm.best_params_)\n",
    "print(\"Best CV accuracy for Linear SVM:\", grid_svm.best_score_)\n",
    "\n",
    "# --- Tuning Gradient Boosting ---\n",
    "pipe_gb = Pipeline([\n",
    "    ('scaler', StandardScaler()),\n",
    "    ('selectkbest', SelectKBest(score_func=f_classif)),\n",
    "    ('gbc', GradientBoostingClassifier(random_state=42))\n",
    "])\n",
    "param_grid_gb = {\n",
    "    'gbc__n_estimators': [50, 100, 200],\n",
    "    'gbc__learning_rate': [0.01, 0.1, 0.2],\n",
    "    'gbc__max_depth': [3, 5, 7]\n",
    "}\n",
    "grid_gb = GridSearchCV(pipe_gb, param_grid_gb, cv=5, scoring='accuracy', n_jobs=-1)\n",
    "grid_gb.fit(X_train, y_train)\n",
    "print(\"Best parameters for Gradient Boosting:\", grid_gb.best_params_)\n",
    "print(\"Best CV accuracy for Gradient Boosting:\", grid_gb.best_score_)\n",
    "\n",
    "# --- Tuning AdaBoost ---\n",
    "pipe_ada = Pipeline([\n",
    "    ('scaler', StandardScaler()),\n",
    "    ('selectkbest', SelectKBest(score_func=f_classif)),\n",
    "    ('ada', AdaBoostClassifier(random_state=42))\n",
    "])\n",
    "param_grid_ada = {\n",
    "    'ada__n_estimators': [50, 100, 200],\n",
    "    'ada__learning_rate': [0.5, 1.0, 1.5]\n",
    "}\n",
    "grid_ada = GridSearchCV(pipe_ada, param_grid_ada, cv=5, scoring='accuracy', n_jobs=-1)\n",
    "grid_ada.fit(X_train, y_train)\n",
    "print(\"Best parameters for AdaBoost:\", grid_ada.best_params_)\n",
    "print(\"Best CV accuracy for AdaBoost:\", grid_ada.best_score_)"
   ]
  },
  {
   "cell_type": "code",
   "execution_count": 6,
   "id": "00ac0f48",
   "metadata": {},
   "outputs": [
    {
     "name": "stdout",
     "output_type": "stream",
     "text": [
      "Classification Report:\n",
      "               precision    recall  f1-score   support\n",
      "\n",
      "           0       0.83      0.89      0.86     10286\n",
      "           1       0.80      0.71      0.75      6272\n",
      "\n",
      "    accuracy                           0.82     16558\n",
      "   macro avg       0.82      0.80      0.81     16558\n",
      "weighted avg       0.82      0.82      0.82     16558\n",
      "\n"
     ]
    }
   ],
   "source": [
    "# We select Gradient Boosting because it trains faster than SVM and the difference in accuracy was negligable.\n",
    "pipe = Pipeline([\n",
    "    ('scaler', StandardScaler()),\n",
    "    ('gbc', GradientBoostingClassifier(random_state=42,learning_rate=0.2,max_depth=3,n_estimators=50))\n",
    "])\n",
    "pipe.fit(X_train,y_train)\n",
    "y_pred = pipe.predict(X_test)\n",
    "\n",
    "# Evaluate performance\n",
    "print(\"Classification Report:\\n\", classification_report(y_test, y_pred))"
   ]
  },
  {
   "cell_type": "code",
   "execution_count": 7,
   "id": "78d5322c",
   "metadata": {},
   "outputs": [],
   "source": [
    "# Feature Reduction Based on Feature Importances\n",
    "# Retrieve feature importances from the trained Gradient Boosting model.\n",
    "feature_importances = pipe.named_steps['gbc'].feature_importances_\n",
    "# Select indices of the top 7 features using argpartition. The number 7 was manually selected.\n",
    "best_7_ind = np.argpartition(feature_importances,-7)[-7:]\n",
    "\n",
    "# Create new training and testing sets with only the 7 most important features.\n",
    "X_train_new=X_train[:,best_7_ind]\n",
    "X_test_new=X_test[:,best_7_ind]"
   ]
  },
  {
   "cell_type": "code",
   "execution_count": 8,
   "id": "96c04c35",
   "metadata": {},
   "outputs": [
    {
     "name": "stdout",
     "output_type": "stream",
     "text": [
      "Classification Report:\n",
      "               precision    recall  f1-score   support\n",
      "\n",
      "           0       0.84      0.88      0.86     10286\n",
      "           1       0.78      0.73      0.75      6272\n",
      "\n",
      "    accuracy                           0.82     16558\n",
      "   macro avg       0.81      0.80      0.81     16558\n",
      "weighted avg       0.82      0.82      0.82     16558\n",
      "\n"
     ]
    }
   ],
   "source": [
    "# Retrain the model on the reduced feature set.\n",
    "pipe = Pipeline([\n",
    "    ('scaler', StandardScaler()),\n",
    "    ('gbc', GradientBoostingClassifier(random_state=42,learning_rate=0.2,max_depth=3,n_estimators=50))\n",
    "])\n",
    "pipe.fit(X_train_new,y_train)\n",
    "y_pred = pipe.predict(X_test_new)\n",
    "\n",
    "# Evaluate performance\n",
    "print(\"Classification Report:\\n\", classification_report(y_test, y_pred))"
   ]
  },
  {
   "cell_type": "code",
   "execution_count": 9,
   "id": "ea146b40",
   "metadata": {},
   "outputs": [
    {
     "name": "stdout",
     "output_type": "stream",
     "text": [
      "The 7 best features are:\n",
      "1) HRV_TP\n",
      "2) HRV_SD1a\n",
      "3) HRV_Prc80NN\n",
      "4) HRV_PSS\n",
      "5) HRV_pNN20\n",
      "6) HRV_HFD\n",
      "7) HRV_MCVNN\n"
     ]
    }
   ],
   "source": [
    "# Identify and Display the 7 Best Features\n",
    "with open(r\"Extracted Features and supplemental files\\Feature Names\", \"rb\") as fp:\n",
    "    feature_names = pickle.load(fp)\n",
    "\n",
    "# Map the selected indices to feature names\n",
    "best_7_feature_names = [feature_names[i] for i in best_7_ind]\n",
    "print(\"The 7 best features are:\")\n",
    "for idx, fname in enumerate(best_7_feature_names, start=1):\n",
    "    print(f\"{idx}) {fname}\")"
   ]
  },
  {
   "cell_type": "code",
   "execution_count": null,
   "id": "dc0ed9ab",
   "metadata": {},
   "outputs": [
    {
     "data": {
      "text/plain": [
       "['HRV_TP',\n",
       " 'HRV_SD1a',\n",
       " 'HRV_Prc80NN',\n",
       " 'HRV_PSS',\n",
       " 'HRV_pNN20',\n",
       " 'HRV_HFD',\n",
       " 'HRV_MCVNN']"
      ]
     },
     "execution_count": 88,
     "metadata": {},
     "output_type": "execute_result"
    }
   ],
   "source": [
    "# The 7 best features are:\n",
    "# 1) Total Power\n",
    "# 2) Short-term variance of contributions of accelerations\n",
    "# 3) The 80th percentile of the RR intervals\n",
    "# 4) Percentage of short segments\n",
    "# 5) The percentage of absolute differences in successive RR intervals greater than 20 ms\n",
    "# 6) Higuchi’s Fractal Dimension\n",
    "# 7) The median absolute deviation of the RR intervals divided by the median of the RR intervals"
   ]
  },
  {
   "cell_type": "code",
   "execution_count": 10,
   "id": "efe9fe2e-74d3-42d4-8bdc-1ffa78ff19f2",
   "metadata": {},
   "outputs": [
    {
     "name": "stdout",
     "output_type": "stream",
     "text": [
      "Cross-validation accuracy scores (7 features): [0.84805116 0.83886689 0.85074627 0.84404508 0.84313128]\n",
      "Mean accuracy: 0.8449681357808634\n",
      "ROC AUC Score: 0.8948948621714873\n"
     ]
    },
    {
     "data": {
      "image/png": "[encoded data removed]",
      "text/plain": [
       "<Figure size 640x480 with 1 Axes>"
      ]
     },
     "metadata": {},
     "output_type": "display_data"
    },
    {
     "data": {
      "image/png": "[encoded data removed]",
      "text/plain": [
       "<Figure size 640x480 with 2 Axes>"
      ]
     },
     "metadata": {},
     "output_type": "display_data"
    }
   ],
   "source": [
    "# Additional Model Evaluation Metrics\n",
    "\n",
    "\n",
    "# Stratified 5-Fold Cross Validation Accuracy on reduced features\n",
    "cv = StratifiedKFold(n_splits=5, shuffle=True, random_state=41)\n",
    "scores = cross_val_score(pipe, X_train_new, y_train, cv=cv, scoring='accuracy')\n",
    "print(\"Cross-validation accuracy scores (7 features):\", scores)\n",
    "print(\"Mean accuracy:\", scores.mean())\n",
    "\n",
    "# ROC Curve and AUC Score\n",
    "y_proba = pipe.predict_proba(X_test_new)[:, 1]\n",
    "roc_auc = roc_auc_score(y_test, y_proba)\n",
    "print(\"ROC AUC Score:\", roc_auc)\n",
    "fpr, tpr, _ = roc_curve(y_test, y_proba)\n",
    "plt.figure()\n",
    "plt.plot(fpr, tpr, label=f\"ROC Curve (AUC = {roc_auc:.3f})\")\n",
    "plt.xlabel(\"False Positive Rate\")\n",
    "plt.ylabel(\"True Positive Rate\")\n",
    "plt.title(\"ROC Curve\")\n",
    "plt.legend()\n",
    "plt.show()\n",
    "\n",
    "# Confusion Matrix\n",
    "cm = confusion_matrix(y_test, y_pred)\n",
    "plt.figure()\n",
    "sns.heatmap(cm, annot=True, fmt='d', cmap='Blues')\n",
    "plt.xlabel(\"Predicted Label\")\n",
    "plt.ylabel(\"True Label\")\n",
    "plt.title(\"Confusion Matrix\")\n",
    "plt.show()"
   ]
  }
 ],
 "metadata": {
  "kernelspec": {
   "display_name": "base",
   "language": "python",
   "name": "python3"
  },
  "language_info": {
   "codemirror_mode": {
    "name": "ipython",
    "version": 3
   },
   "file_extension": ".py",
   "mimetype": "text/x-python",
   "name": "python",
   "nbconvert_exporter": "python",
   "pygments_lexer": "ipython3",
   "version": "3.12.7"
  }
 },
 "nbformat": 4,
 "nbformat_minor": 5
}
