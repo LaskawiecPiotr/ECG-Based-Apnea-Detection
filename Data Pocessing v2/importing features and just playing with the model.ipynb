{
 "cells": [
  {
   "cell_type": "code",
   "execution_count": 1,
   "id": "53393609-b3dd-4a69-994d-050a97c20098",
   "metadata": {},
   "outputs": [],
   "source": [
    "import wfdb\n",
    "import mne\n",
    "import numpy as np\n",
    "import pandas as pd\n",
    "import matplotlib.pyplot as plt\n",
    "from sklearn.ensemble import RandomForestClassifier, GradientBoostingClassifier,AdaBoostClassifier,ExtraTreesClassifier, BaggingClassifier, HistGradientBoostingClassifier\n",
    "from sklearn.metrics import accuracy_score, classification_report, confusion_matrix, hamming_loss,ConfusionMatrixDisplay,roc_curve, auc,roc_auc_score,precision_recall_curve\n",
    "from sklearn.pipeline import make_pipeline,Pipeline\n",
    "from sklearn.preprocessing import FunctionTransformer,StandardScaler\n",
    "from mne.datasets import sample\n",
    "from sklearn.linear_model import LogisticRegression\n",
    "from sklearn.model_selection import cross_val_score, StratifiedKFold, GridSearchCV, StratifiedShuffleSplit,RandomizedSearchCV\n",
    "from mne_features.feature_extraction import extract_features, FeatureExtractor\n",
    "from sklearn.datasets import load_iris\n",
    "from sklearn.feature_selection import SelectKBest,f_classif\n",
    "import neurokit2 as nk\n",
    "from sklearn.discriminant_analysis import QuadraticDiscriminantAnalysis\n",
    "from sklearn.gaussian_process import GaussianProcessClassifier\n",
    "from sklearn.gaussian_process.kernels import RBF\n",
    "from sklearn.inspection import DecisionBoundaryDisplay,permutation_importance\n",
    "from sklearn.model_selection import train_test_split\n",
    "from sklearn.naive_bayes import GaussianNB\n",
    "from sklearn.neighbors import KNeighborsClassifier\n",
    "from sklearn.neural_network import MLPClassifier\n",
    "from sklearn.svm import SVC\n",
    "from sklearn.tree import DecisionTreeClassifier\n",
    "from sklearn.impute import SimpleImputer\n",
    "from sklearn.decomposition import PCA\n",
    "from imblearn.over_sampling import SMOTE\n",
    "from xgboost import XGBClassifier\n",
    "import seaborn as sns\n",
    "from lightgbm import LGBMClassifier\n",
    "from catboost import CatBoostClassifier"
   ]
  },
  {
   "cell_type": "code",
   "execution_count": 3,
   "id": "a91d1c41-1856-4344-9f79-c25b2052df65",
   "metadata": {},
   "outputs": [],
   "source": [
    "#120s interval data\n",
    "X_train=np.load(r\"C:\\Users\\piotr\\features_cleaned_30s.npy\")\n",
    "y_train=np.load(r\"C:\\Users\\piotr\\labels_cleaned_30s.npy\")\n",
    "# X[np.isinf(X)]=np.nan\n",
    "# imp_mean = SimpleImputer(missing_values=np.nan, strategy='mean')\n",
    "# imp_mean.fit(X)\n",
    "# X_train=imp_mean.transform(X)\n",
    "X_test=np.load(r\"C:\\Users\\piotr\\features_cleaned_30s_test.npy\")\n",
    "y_test=np.load(r\"C:\\Users\\piotr\\labels_cleaned_30s_test.npy\")\n",
    "# imp_mean = SimpleImputer(missing_values=np.nan, strategy='mean')\n",
    "# features_test[np.isinf(features_test)]=np.nan\n",
    "# imp_mean.fit(features_test)\n",
    "# X_test=imp_mean.transform(features_test)"
   ]
  },
  {
   "cell_type": "code",
   "execution_count": 4,
   "id": "278a035a-2515-4232-88f9-35508d637d04",
   "metadata": {
    "scrolled": true
   },
   "outputs": [
    {
     "name": "stdout",
     "output_type": "stream",
     "text": [
      "Average cross-validation accuracy of Nearest Neighbors: 0.6455\n",
      "Average cross-validation accuracy of Linear SVM: 0.6975\n",
      "Average cross-validation accuracy of RBF SVM: 0.6448\n",
      "Average cross-validation accuracy of Decision Tree: 0.6664\n",
      "Average cross-validation accuracy of Random Forest: 0.6928\n",
      "Average cross-validation accuracy of Neural Net: 0.6911\n",
      "Average cross-validation accuracy of AdaBoost: 0.6017\n",
      "Average cross-validation accuracy of Naive Bayes: 0.6242\n",
      "Average cross-validation accuracy of QDA: 0.6736\n",
      "Average cross-validation accuracy of XGBClassifier: 0.6989\n",
      "Average cross-validation accuracy of Logistic Regression: 0.6916\n"
     ]
    },
    {
     "name": "stderr",
     "output_type": "stream",
     "text": [
      "c:\\Users\\piotr\\anaconda3\\Lib\\site-packages\\sklearn\\model_selection\\_validation.py:540: FitFailedWarning: \n",
      "1 fits failed out of a total of 5.\n",
      "The score on these train-test partitions for these parameters will be set to nan.\n",
      "If these failures are not expected, you can try to debug them by setting error_score='raise'.\n",
      "\n",
      "Below are more details about the failures:\n",
      "--------------------------------------------------------------------------------\n",
      "1 fits failed with the following error:\n",
      "Traceback (most recent call last):\n",
      "  File \"c:\\Users\\piotr\\anaconda3\\Lib\\site-packages\\sklearn\\model_selection\\_validation.py\", line 888, in _fit_and_score\n",
      "    estimator.fit(X_train, y_train, **fit_params)\n",
      "  File \"c:\\Users\\piotr\\anaconda3\\Lib\\site-packages\\sklearn\\base.py\", line 1473, in wrapper\n",
      "    return fit_method(estimator, *args, **kwargs)\n",
      "           ^^^^^^^^^^^^^^^^^^^^^^^^^^^^^^^^^^^^^^\n",
      "  File \"c:\\Users\\piotr\\anaconda3\\Lib\\site-packages\\sklearn\\pipeline.py\", line 473, in fit\n",
      "    self._final_estimator.fit(Xt, y, **last_step_params[\"fit\"])\n",
      "  File \"c:\\Users\\piotr\\anaconda3\\Lib\\site-packages\\catboost\\core.py\", line 5245, in fit\n",
      "    self._fit(X, y, cat_features, text_features, embedding_features, None, graph, sample_weight, None, None, None, None, baseline, use_best_model,\n",
      "  File \"c:\\Users\\piotr\\anaconda3\\Lib\\site-packages\\catboost\\core.py\", line 2410, in _fit\n",
      "    self._train(\n",
      "  File \"c:\\Users\\piotr\\anaconda3\\Lib\\site-packages\\catboost\\core.py\", line 1790, in _train\n",
      "    self._object._train(train_pool, test_pool, params, allow_clear_pool, init_model._object if init_model else None)\n",
      "  File \"_catboost.pyx\", line 5017, in _catboost._CatBoost._train\n",
      "  File \"_catboost.pyx\", line 5066, in _catboost._CatBoost._train\n",
      "_catboost.CatBoostError: catboost/libs/train_lib/dir_helper.cpp:26: Can't create train tmp dir: tmp\n",
      "\n",
      "  warnings.warn(some_fits_failed_message, FitFailedWarning)\n"
     ]
    },
    {
     "name": "stdout",
     "output_type": "stream",
     "text": [
      "Average cross-validation accuracy of LGBMClassifier: nan\n",
      "Average cross-validation accuracy of CatBoostClassifier: 0.6903\n",
      "Average cross-validation accuracy of Extra Trees: 0.6684\n",
      "Average cross-validation accuracy of Bagging Classifier: 0.6841\n",
      "\n",
      "Sorted Model Performance:\n",
      "XGBClassifier: 0.6989\n",
      "Linear SVM: 0.6975\n",
      "Random Forest: 0.6928\n",
      "Logistic Regression: 0.6916\n",
      "Neural Net: 0.6911\n",
      "QDA: 0.6736\n",
      "Decision Tree: 0.6664\n",
      "Naive Bayes: 0.6242\n",
      "LGBMClassifier: nan\n",
      "CatBoostClassifier: 0.6903\n",
      "Bagging Classifier: 0.6841\n",
      "Extra Trees: 0.6684\n",
      "Nearest Neighbors: 0.6455\n",
      "RBF SVM: 0.6448\n",
      "AdaBoost: 0.6017\n"
     ]
    }
   ],
   "source": [
    "names = [\n",
    "    \"Nearest Neighbors\",\n",
    "    \"Linear SVM\",\n",
    "    \"RBF SVM\",\n",
    "    \"Decision Tree\",\n",
    "    \"Random Forest\",\n",
    "    \"Neural Net\",\n",
    "    \"AdaBoost\",\n",
    "    \"Naive Bayes\",\n",
    "    \"QDA\",\n",
    "    \"XGBClassifier\",\n",
    "    \"Logistic Regression\",\n",
    "    \"LGBMClassifier\",\n",
    "    \"CatBoostClassifier\",\n",
    "    \"Extra Trees\",\n",
    "    \"Bagging Classifier\",\n",
    "    \"HistGradientBoosting\"\n",
    "]\n",
    "\n",
    "classifiers = [\n",
    "    KNeighborsClassifier(3),\n",
    "    SVC(kernel=\"linear\", C=0.025, random_state=42),\n",
    "    SVC(gamma=2, C=1, random_state=42),\n",
    "    DecisionTreeClassifier(max_depth=5, random_state=42),\n",
    "    RandomForestClassifier(max_depth=5, n_estimators=10, max_features=1, random_state=42),\n",
    "    AdaBoostClassifier(random_state=42),\n",
    "    GaussianNB(),\n",
    "    QuadraticDiscriminantAnalysis(),\n",
    "    XGBClassifier(),\n",
    "    LogisticRegression(random_state=42, max_iter=1000),\n",
    "    LGBMClassifier(random_state=42),\n",
    "    CatBoostClassifier(verbose=0, random_state=42),\n",
    "    ExtraTreesClassifier(n_estimators=100, random_state=42),\n",
    "    BaggingClassifier( random_state=42),\n",
    "    HistGradientBoostingClassifier(random_state=42)\n",
    "]\n",
    "\n",
    "results = {}\n",
    "\n",
    "for name, clf in zip(names, classifiers):\n",
    "    pipe = make_pipeline(StandardScaler(), SelectKBest(f_classif, k=24), clf)\n",
    "    scores = cross_val_score(pipe, X_train, y_train, cv=5, scoring='accuracy', n_jobs=-1)\n",
    "    results[name] = np.mean(scores)\n",
    "    print(f\"Average cross-validation accuracy of {name}: {np.mean(scores):.4f}\")\n",
    "\n",
    "# Sort results by accuracy\n",
    "sorted_results = sorted(results.items(), key=lambda x: x[1], reverse=True)\n",
    "\n",
    "print(\"\\nSorted Model Performance:\")\n",
    "for name, score in sorted_results:\n",
    "    print(f\"{name}: {score:.4f}\")"
   ]
  },
  {
   "cell_type": "code",
   "execution_count": 65,
   "id": "effc26d7-37c6-4a9a-86e9-c2c7c1184145",
   "metadata": {},
   "outputs": [],
   "source": [
    "pipe = make_pipeline(StandardScaler(),\n",
    "    XGBClassifier(random_state=42)\n",
    ")"
   ]
  },
  {
   "cell_type": "code",
   "execution_count": 66,
   "id": "16b90fff-6c96-4c02-9345-2635843f6645",
   "metadata": {},
   "outputs": [
    {
     "name": "stdout",
     "output_type": "stream",
     "text": [
      "Fitting 5 folds for each of 20 candidates, totalling 100 fits\n",
      "Best Parameters: {'xgbclassifier__subsample': 0.9, 'xgbclassifier__reg_lambda': 0.1, 'xgbclassifier__reg_alpha': 1.0, 'xgbclassifier__n_estimators': 250, 'xgbclassifier__min_child_weight': 1, 'xgbclassifier__max_depth': 4, 'xgbclassifier__learning_rate': 0.06799999999999999, 'xgbclassifier__gamma': 0.75, 'xgbclassifier__colsample_bytree': 0.5}\n",
      "Best ROC AUC Score: 0.8238209195088597\n"
     ]
    }
   ],
   "source": [
    "# Define hyperparameter search space\n",
    "param_dist = {\n",
    "    'xgbclassifier__max_depth': np.random.randint(3, 10, 5).tolist(),\n",
    "    'xgbclassifier__learning_rate': np.linspace(0.01, 0.3, 6).tolist(),\n",
    "    'xgbclassifier__gamma': np.linspace(0, 1, 5).tolist(),\n",
    "    'xgbclassifier__n_estimators': np.random.randint(100, 600, 5).tolist(),\n",
    "    'xgbclassifier__subsample': np.linspace(0.7, 1.0, 4).tolist(),\n",
    "    'xgbclassifier__colsample_bytree': np.linspace(0.5, 1.0, 4).tolist(),\n",
    "    'xgbclassifier__reg_lambda': np.logspace(-2, 1, 4).tolist(),\n",
    "    'xgbclassifier__reg_alpha': np.logspace(-2, 1, 4).tolist(),\n",
    "    'xgbclassifier__min_child_weight': np.random.randint(1, 6, 4).tolist(),\n",
    "}\n",
    "# Perform RandomizedSearchCV with 20 random samples\n",
    "random_search = RandomizedSearchCV(\n",
    "    estimator=pipe,\n",
    "    param_distributions=param_dist,\n",
    "    n_iter=20,  # Number of random parameter sets to test\n",
    "    scoring='roc_auc',  # Use ROC AUC for imbalanced data\n",
    "    n_jobs=-1,\n",
    "    cv=5,  # 5-fold cross-validation\n",
    "    verbose=3,\n",
    "    random_state=42\n",
    ")\n",
    "\n",
    "# Fit RandomizedSearch\n",
    "random_search.fit(X_train, y_train)\n",
    "\n",
    "# Print best parameters and best score\n",
    "print(\"Best Parameters:\", random_search.best_params_)\n",
    "print(\"Best ROC AUC Score:\", random_search.best_score_)"
   ]
  },
  {
   "cell_type": "code",
   "execution_count": 68,
   "id": "191cbcdb-7aae-4d92-b938-f3e922759e27",
   "metadata": {},
   "outputs": [
    {
     "name": "stdout",
     "output_type": "stream",
     "text": [
      "Accuracy: 0.799812382739212\n",
      "Classification Report:\n",
      "               precision    recall  f1-score   support\n",
      "\n",
      "           0       0.82      0.86      0.84      9782\n",
      "           1       0.76      0.71      0.73      6208\n",
      "\n",
      "    accuracy                           0.80     15990\n",
      "   macro avg       0.79      0.78      0.79     15990\n",
      "weighted avg       0.80      0.80      0.80     15990\n",
      "\n"
     ]
    }
   ],
   "source": [
    "pipe = make_pipeline(StandardScaler(),  XGBClassifier(\n",
    "    subsample=0.9,\n",
    "    reg_lambda=0.1,\n",
    "    reg_alpha=1.0,\n",
    "    n_estimators=250,\n",
    "    min_child_weight=1,\n",
    "    max_depth=4,\n",
    "    learning_rate=0.07,\n",
    "    gamma=0.75,\n",
    "    colsample_bytree=0.5,\n",
    "    random_state=42))\n",
    "pipe.fit(X_train,y_train)\n",
    "y_pred = pipe.predict(X_test)\n",
    "\n",
    "# Evaluate performance\n",
    "print(\"Accuracy:\", accuracy_score(y_test, y_pred))\n",
    "print(\"Classification Report:\\n\", classification_report(y_test, y_pred))"
   ]
  },
  {
   "cell_type": "code",
   "execution_count": 70,
   "id": "c4783a43-c58e-47f2-a064-ed1a00854c91",
   "metadata": {},
   "outputs": [
    {
     "name": "stdout",
     "output_type": "stream",
     "text": [
      "    Feature Index  Importance\n",
      "22             22    0.112999\n",
      "62             62    0.053193\n",
      "26             26    0.051846\n",
      "9               9    0.050795\n",
      "8               8    0.030320\n",
      "..            ...         ...\n",
      "59             59    0.004087\n",
      "38             38    0.003935\n",
      "40             40    0.003895\n",
      "58             58    0.003753\n",
      "60             60    0.003633\n",
      "\n",
      "[65 rows x 2 columns]\n"
     ]
    }
   ],
   "source": [
    "xgb_model = pipe.named_steps['xgbclassifier']\n",
    "feature_importances = xgb_model.feature_importances_\n",
    "\n",
    "# Create a DataFrame to map feature index to importance\n",
    "feature_importance_df = pd.DataFrame({\n",
    "    'Feature Index': np.arange(len(feature_importances)),\n",
    "    'Importance': feature_importances\n",
    "})\n",
    "feature_importance_df = feature_importance_df.sort_values(by=\"Importance\", ascending=False)\n",
    "\n",
    "# Display results\n",
    "print(feature_importance_df)"
   ]
  },
  {
   "cell_type": "code",
   "execution_count": 71,
   "id": "5e6df9cb-c365-433b-b25d-4091ec42b120",
   "metadata": {},
   "outputs": [
    {
     "data": {
      "text/plain": [
       "array([ 0,  1,  2,  3,  4,  5,  6,  7,  8,  9, 10, 11, 12, 13, 14, 15, 16,\n",
       "       17, 18, 19, 20, 21, 22, 23, 24, 25, 26, 27, 28, 29, 30, 31, 32, 33,\n",
       "       34, 35, 36, 37, 38, 39, 40, 41, 42, 43, 44, 45, 46, 47, 48, 49, 50,\n",
       "       51, 52, 53, 54, 55, 56, 57, 58, 59, 60, 61, 62, 63, 64])"
      ]
     },
     "execution_count": 71,
     "metadata": {},
     "output_type": "execute_result"
    }
   ],
   "source": [
    "np.arange(len(feature_importances))"
   ]
  },
  {
   "cell_type": "code",
   "execution_count": 72,
   "id": "efe9fe2e-74d3-42d4-8bdc-1ffa78ff19f2",
   "metadata": {},
   "outputs": [
    {
     "name": "stdout",
     "output_type": "stream",
     "text": [
      "Cross-validation accuracy scores: [0.83872996 0.83904433 0.84030179 0.83841559 0.83244263]\n",
      "Mean accuracy: 0.8377868594781515\n"
     ]
    }
   ],
   "source": [
    "cv = StratifiedKFold(n_splits=5, shuffle=True, random_state=41)\n",
    "scores = cross_val_score(pipe, X_train, y_train, cv=cv, scoring='accuracy')\n",
    "print(\"Cross-validation accuracy scores:\", scores)\n",
    "print(\"Mean accuracy:\", scores.mean())"
   ]
  },
  {
   "cell_type": "code",
   "execution_count": 73,
   "id": "9a7a9a37-7cb1-48bc-a3a6-7dc217c26cbb",
   "metadata": {},
   "outputs": [
    {
     "name": "stdout",
     "output_type": "stream",
     "text": [
      "ROC AUC Score: 0.8773112667359783\n"
     ]
    },
    {
     "data": {
      "image/png": "[encoded data removed]",
      "text/plain": [
       "<Figure size 640x480 with 1 Axes>"
      ]
     },
     "metadata": {},
     "output_type": "display_data"
    }
   ],
   "source": [
    "y_proba = pipe.predict_proba(X_test)[:, 1] \n",
    "print(\"ROC AUC Score:\", roc_auc_score(y_test, y_proba))\n",
    "fpr, tpr, _ = roc_curve(y_test, y_proba)\n",
    "plt.plot(fpr, tpr, label=\"ROC Curve\")\n",
    "plt.xlabel(\"False Positive Rate\")\n",
    "plt.ylabel(\"True Positive Rate\")\n",
    "plt.title(\"ROC Curve\")\n",
    "plt.legend()\n",
    "plt.show()"
   ]
  },
  {
   "cell_type": "code",
   "execution_count": 74,
   "id": "3b0b1f34-36b6-42bd-8eb1-db39dc1e1c06",
   "metadata": {},
   "outputs": [
    {
     "data": {
      "image/png": "[encoded data removed]",
      "text/plain": [
       "<Figure size 640x480 with 2 Axes>"
      ]
     },
     "metadata": {},
     "output_type": "display_data"
    }
   ],
   "source": [
    "cm = confusion_matrix(y_test, y_pred)\n",
    "sns.heatmap(cm, annot=True, fmt='d', cmap='Blues')\n",
    "plt.xlabel(\"Predicted Label\")\n",
    "plt.ylabel(\"True Label\")\n",
    "plt.title(\"Confusion Matrix\")\n",
    "plt.show()"
   ]
  },
  {
   "cell_type": "code",
   "execution_count": 75,
   "id": "3e09fc8c-74a5-41f7-b24e-6a23fd6d6ddb",
   "metadata": {
    "scrolled": true
   },
   "outputs": [
    {
     "name": "stdout",
     "output_type": "stream",
     "text": [
      "Accuracy: 0.8785916378497328\n",
      "Classification Report:\n",
      "               precision    recall  f1-score   support\n",
      "\n",
      "           0       0.89      0.90      0.90      9493\n",
      "           1       0.85      0.84      0.85      6412\n",
      "\n",
      "    accuracy                           0.88     15905\n",
      "   macro avg       0.87      0.87      0.87     15905\n",
      "weighted avg       0.88      0.88      0.88     15905\n",
      "\n"
     ]
    }
   ],
   "source": [
    "y_pred = pipe.predict(X_train)\n",
    "\n",
    "# Evaluate performance\n",
    "print(\"Accuracy:\", accuracy_score(y_train, y_pred))\n",
    "print(\"Classification Report:\\n\", classification_report(y_train, y_pred))"
   ]
  },
  {
   "cell_type": "code",
   "execution_count": 7,
   "id": "cb0877f4-db7c-4676-b56f-c2abdcf17d01",
   "metadata": {},
   "outputs": [],
   "source": [
    "X=np.load(r\"C:\\Users\\piotr\\features_cleaned_60s.npy\")"
   ]
  },
  {
   "cell_type": "code",
   "execution_count": 14,
   "id": "de00136c-bd78-481e-9223-e6e8acb5c4b0",
   "metadata": {},
   "outputs": [
    {
     "data": {
      "text/plain": [
       "(array([   49,   861,  1173,  1566,  1685,  2388,  2393,  2458,  2459,\n",
       "         2485,  2512,  2518,  2528,  2546,  2551,  2556,  2660,  2662,\n",
       "         2683,  2745,  2749,  2755,  2757,  2758,  2772,  2820,  2861,\n",
       "         3363,  3924,  3933,  3982,  4012,  4402,  4406,  4408,  4422,\n",
       "         4441,  4462,  4528,  4541,  4542,  4637,  4643,  4646,  4755,\n",
       "         4796,  4832,  4908,  4926,  5008,  5035,  5074,  5093,  5099,\n",
       "         5141,  5175,  5204,  5208,  5241,  5242,  5256,  5277,  5305,\n",
       "         5604,  5744,  5830,  5834,  6447,  6594,  6738,  6762,  6778,\n",
       "         6822,  6838,  6842,  7050,  7051,  7487,  7547,  7656,  8131,\n",
       "         8255,  8266,  8275,  8285,  8340,  8342,  8511,  8523,  8646,\n",
       "         8767,  9320,  9340,  9377,  9391,  9419,  9464,  9558,  9562,\n",
       "         9804,  9865,  9868, 10016, 10087, 10113, 10124, 10570, 10697,\n",
       "        10814, 11218, 11321, 11495, 11573, 12018, 12065, 12180, 12280,\n",
       "        12300, 12473, 12482, 12485, 12495, 12497, 12511, 12514, 12530,\n",
       "        12531, 12552, 12612, 12618, 12721, 12752, 12818, 12825, 12838,\n",
       "        12875, 12923, 12933, 12936, 12939, 12967, 12972, 13080, 13203,\n",
       "        13215, 13280, 13285, 13296, 13344, 13609, 13714, 13828, 13889,\n",
       "        13896, 13915, 13957, 13967, 13990, 13992, 14019, 14031, 14142,\n",
       "        14429, 14514, 14616, 14776, 14777, 14778, 14813, 15266, 15489,\n",
       "        15561, 15613, 15624, 15633, 15697, 15702, 15761, 15768, 15796,\n",
       "        15838, 15851, 15887, 15891], dtype=int64),)"
      ]
     },
     "execution_count": 14,
     "metadata": {},
     "output_type": "execute_result"
    }
   ],
   "source": [
    "np.where(np.isinf(X).any(axis=1))"
   ]
  },
  {
   "cell_type": "code",
   "execution_count": 17,
   "id": "be4afce1-625f-4d7a-81f9-326f3980f82c",
   "metadata": {},
   "outputs": [
    {
     "data": {
      "text/plain": [
       "(array([0, 1]), array([130,  54], dtype=int64))"
      ]
     },
     "execution_count": 17,
     "metadata": {},
     "output_type": "execute_result"
    }
   ],
   "source": [
    "X[np.where(np.isinf(X).any(axis=1))]\n",
    "np.unique(y_train[np.where(np.isinf(X).any(axis=1))],return_counts=True)"
   ]
  },
  {
   "cell_type": "code",
   "execution_count": 18,
   "id": "e1e2c20b-1155-420e-9798-7cd94dff9851",
   "metadata": {},
   "outputs": [
    {
     "data": {
      "text/plain": [
       "(array([0, 1]), array([9493, 6412], dtype=int64))"
      ]
     },
     "execution_count": 18,
     "metadata": {},
     "output_type": "execute_result"
    }
   ],
   "source": [
    "np.unique(y_train,return_counts=True)"
   ]
  },
  {
   "cell_type": "code",
   "execution_count": null,
   "id": "ed94d8b8-50d5-4dd5-89c5-eab173ab5ed8",
   "metadata": {},
   "outputs": [],
   "source": []
  }
 ],
 "metadata": {
  "kernelspec": {
   "display_name": "base",
   "language": "python",
   "name": "python3"
  },
  "language_info": {
   "codemirror_mode": {
    "name": "ipython",
    "version": 3
   },
   "file_extension": ".py",
   "mimetype": "text/x-python",
   "name": "python",
   "nbconvert_exporter": "python",
   "pygments_lexer": "ipython3",
   "version": "3.12.7"
  }
 },
 "nbformat": 4,
 "nbformat_minor": 5
}
