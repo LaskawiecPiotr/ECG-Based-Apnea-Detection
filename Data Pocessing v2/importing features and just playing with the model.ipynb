{
 "cells": [
  {
   "cell_type": "code",
   "execution_count": 12,
   "id": "53393609-b3dd-4a69-994d-050a97c20098",
   "metadata": {},
   "outputs": [],
   "source": [
    "import wfdb\n",
    "import mne\n",
    "import numpy as np\n",
    "import pandas as pd\n",
    "import matplotlib.pyplot as plt\n",
    "from sklearn.ensemble import RandomForestClassifier, GradientBoostingClassifier,AdaBoostClassifier,ExtraTreesClassifier, BaggingClassifier, HistGradientBoostingClassifier\n",
    "from sklearn.metrics import accuracy_score, classification_report, confusion_matrix, hamming_loss,ConfusionMatrixDisplay,roc_curve, auc,roc_auc_score,precision_recall_curve\n",
    "from sklearn.pipeline import make_pipeline,Pipeline\n",
    "from sklearn.preprocessing import FunctionTransformer,StandardScaler\n",
    "from mne.datasets import sample\n",
    "from sklearn.linear_model import LogisticRegression\n",
    "from sklearn.model_selection import cross_val_score, StratifiedKFold, GridSearchCV, StratifiedShuffleSplit,RandomizedSearchCV\n",
    "from mne_features.feature_extraction import extract_features, FeatureExtractor\n",
    "from sklearn.datasets import load_iris\n",
    "from sklearn.feature_selection import SelectKBest,f_classif\n",
    "import neurokit2 as nk\n",
    "from sklearn.discriminant_analysis import QuadraticDiscriminantAnalysis\n",
    "from sklearn.gaussian_process import GaussianProcessClassifier\n",
    "from sklearn.gaussian_process.kernels import RBF\n",
    "from sklearn.inspection import DecisionBoundaryDisplay,permutation_importance\n",
    "from sklearn.model_selection import train_test_split\n",
    "from sklearn.naive_bayes import GaussianNB\n",
    "from sklearn.neighbors import KNeighborsClassifier\n",
    "from sklearn.neural_network import MLPClassifier\n",
    "from sklearn.svm import SVC\n",
    "from sklearn.tree import DecisionTreeClassifier\n",
    "from sklearn.impute import SimpleImputer\n",
    "from sklearn.decomposition import PCA\n",
    "from imblearn.over_sampling import SMOTE\n",
    "from xgboost import XGBClassifier\n",
    "import seaborn as sns\n",
    "from lightgbm import LGBMClassifier\n",
    "from catboost import CatBoostClassifier"
   ]
  },
  {
   "cell_type": "code",
   "execution_count": 117,
   "id": "a91d1c41-1856-4344-9f79-c25b2052df65",
   "metadata": {},
   "outputs": [],
   "source": [
    "#Import the extracted features\n",
    "X_train=np.load(\"features_cleaned_120s_train.npy\")\n",
    "y_train=np.load(\"labels_cleaned_120s_train.npy\")\n",
    "X_test=np.load(r\"features_cleaned_120s_test.npy\")\n",
    "y_test=np.load(r\"labels_cleaned_120s_test.npy\")"
   ]
  },
  {
   "cell_type": "code",
   "execution_count": 121,
   "id": "278a035a-2515-4232-88f9-35508d637d04",
   "metadata": {
    "scrolled": true
   },
   "outputs": [
    {
     "name": "stdout",
     "output_type": "stream",
     "text": [
      "Testing for 60s intervals\n",
      "Average cross-validation accuracy of Nearest Neighbors: 0.6886\n",
      "Average cross-validation accuracy of Linear SVM: 0.7538\n",
      "Average cross-validation accuracy of RBF SVM: 0.5956\n",
      "Average cross-validation accuracy of Decision Tree: 0.7005\n",
      "Average cross-validation accuracy of Random Forest: 0.7401\n",
      "Average cross-validation accuracy of Neural Net: 0.7354\n",
      "Average cross-validation accuracy of AdaBoost: 0.5668\n",
      "Average cross-validation accuracy of Naive Bayes: 0.5568\n",
      "Average cross-validation accuracy of QDA: 0.7274\n",
      "Average cross-validation accuracy of XGBClassifier: 0.7532\n",
      "Average cross-validation accuracy of Logistic Regression: 0.7406\n",
      "Average cross-validation accuracy of LGBMClassifier: 0.7356\n",
      "Average cross-validation accuracy of CatBoostClassifier: 0.7271\n",
      "Average cross-validation accuracy of Extra Trees: 0.7159\n",
      "Average cross-validation accuracy of Bagging Classifier: 0.7426\n",
      "\n",
      "Sorted Model Performance:\n",
      "Linear SVM: 0.7538\n",
      "XGBClassifier: 0.7532\n",
      "Bagging Classifier: 0.7426\n",
      "Logistic Regression: 0.7406\n",
      "Random Forest: 0.7401\n",
      "LGBMClassifier: 0.7356\n",
      "Neural Net: 0.7354\n",
      "QDA: 0.7274\n",
      "CatBoostClassifier: 0.7271\n",
      "Extra Trees: 0.7159\n",
      "Decision Tree: 0.7005\n",
      "Nearest Neighbors: 0.6886\n",
      "RBF SVM: 0.5956\n",
      "AdaBoost: 0.5668\n",
      "Naive Bayes: 0.5568\n",
      "Testing for 90s intervals\n",
      "Average cross-validation accuracy of Nearest Neighbors: 0.6966\n",
      "Average cross-validation accuracy of Linear SVM: 0.7717\n",
      "Average cross-validation accuracy of RBF SVM: 0.6030\n",
      "Average cross-validation accuracy of Decision Tree: 0.7238\n",
      "Average cross-validation accuracy of Random Forest: 0.7178\n",
      "Average cross-validation accuracy of Neural Net: 0.7516\n",
      "Average cross-validation accuracy of AdaBoost: 0.5500\n",
      "Average cross-validation accuracy of Naive Bayes: 0.5322\n",
      "Average cross-validation accuracy of QDA: 0.7458\n",
      "Average cross-validation accuracy of XGBClassifier: 0.7756\n",
      "Average cross-validation accuracy of Logistic Regression: 0.7509\n",
      "Average cross-validation accuracy of LGBMClassifier: 0.7528\n",
      "Average cross-validation accuracy of CatBoostClassifier: 0.7350\n",
      "Average cross-validation accuracy of Extra Trees: 0.7257\n",
      "Average cross-validation accuracy of Bagging Classifier: 0.7501\n",
      "\n",
      "Sorted Model Performance:\n",
      "XGBClassifier: 0.7756\n",
      "Linear SVM: 0.7717\n",
      "LGBMClassifier: 0.7528\n",
      "Neural Net: 0.7516\n",
      "Logistic Regression: 0.7509\n",
      "Bagging Classifier: 0.7501\n",
      "QDA: 0.7458\n",
      "CatBoostClassifier: 0.7350\n",
      "Extra Trees: 0.7257\n",
      "Decision Tree: 0.7238\n",
      "Random Forest: 0.7178\n",
      "Nearest Neighbors: 0.6966\n",
      "RBF SVM: 0.6030\n",
      "AdaBoost: 0.5500\n",
      "Naive Bayes: 0.5322\n",
      "Testing for 120s intervals\n",
      "Average cross-validation accuracy of Nearest Neighbors: 0.6968\n",
      "Average cross-validation accuracy of Linear SVM: 0.7844\n",
      "Average cross-validation accuracy of RBF SVM: 0.6044\n",
      "Average cross-validation accuracy of Decision Tree: 0.7324\n",
      "Average cross-validation accuracy of Random Forest: 0.7209\n",
      "Average cross-validation accuracy of Neural Net: 0.7637\n",
      "Average cross-validation accuracy of AdaBoost: 0.5182\n",
      "Average cross-validation accuracy of Naive Bayes: 0.5703\n",
      "Average cross-validation accuracy of QDA: 0.7533\n",
      "Average cross-validation accuracy of XGBClassifier: 0.7859\n",
      "Average cross-validation accuracy of Logistic Regression: 0.7639\n",
      "Average cross-validation accuracy of LGBMClassifier: 0.7588\n",
      "Average cross-validation accuracy of CatBoostClassifier: 0.7431\n",
      "Average cross-validation accuracy of Extra Trees: 0.7377\n",
      "Average cross-validation accuracy of Bagging Classifier: 0.7613\n",
      "\n",
      "Sorted Model Performance:\n",
      "XGBClassifier: 0.7859\n",
      "Linear SVM: 0.7844\n",
      "Logistic Regression: 0.7639\n",
      "Neural Net: 0.7637\n",
      "Bagging Classifier: 0.7613\n",
      "LGBMClassifier: 0.7588\n",
      "QDA: 0.7533\n",
      "CatBoostClassifier: 0.7431\n",
      "Extra Trees: 0.7377\n",
      "Decision Tree: 0.7324\n",
      "Random Forest: 0.7209\n",
      "Nearest Neighbors: 0.6968\n",
      "RBF SVM: 0.6044\n",
      "Naive Bayes: 0.5703\n",
      "AdaBoost: 0.5182\n"
     ]
    }
   ],
   "source": [
    "for i in [60,90,120]:\n",
    "    X_train=np.load(f\"features_cleaned_{i}s_train.npy\")\n",
    "    y_train=np.load(f\"labels_cleaned_{i}s_train.npy\")\n",
    "    X_test=np.load(f\"features_cleaned_{i}s_test.npy\")\n",
    "    y_test=np.load(f\"labels_cleaned_{i}s_test.npy\")\n",
    "    # Ranking classifiers\n",
    "    print(f\"Testing for {i}s intervals\")\n",
    "    names = [\n",
    "        \"Nearest Neighbors\",\n",
    "        \"Linear SVM\",\n",
    "        \"RBF SVM\",\n",
    "        \"Decision Tree\",\n",
    "        \"Random Forest\",\n",
    "        \"Neural Net\",\n",
    "        \"AdaBoost\",\n",
    "        \"Naive Bayes\",\n",
    "        \"QDA\",\n",
    "        \"XGBClassifier\",\n",
    "        \"Logistic Regression\",\n",
    "        \"LGBMClassifier\",\n",
    "        \"CatBoostClassifier\",\n",
    "        \"Extra Trees\",\n",
    "        \"Bagging Classifier\",\n",
    "        \"HistGradientBoosting\"\n",
    "    ]\n",
    "\n",
    "    classifiers = [\n",
    "        KNeighborsClassifier(3),\n",
    "        SVC(kernel=\"linear\", C=0.025, random_state=42),\n",
    "        SVC(gamma=2, C=1, random_state=42),\n",
    "        DecisionTreeClassifier(max_depth=5, random_state=42),\n",
    "        RandomForestClassifier(max_depth=5, n_estimators=10, max_features=1, random_state=42),\n",
    "        AdaBoostClassifier(random_state=42),\n",
    "        GaussianNB(),\n",
    "        QuadraticDiscriminantAnalysis(),\n",
    "        XGBClassifier(),\n",
    "        LogisticRegression(random_state=42, max_iter=1000),\n",
    "        LGBMClassifier(random_state=42),\n",
    "        CatBoostClassifier(verbose=0, random_state=42),\n",
    "        ExtraTreesClassifier(n_estimators=100, random_state=42),\n",
    "        BaggingClassifier( random_state=42),\n",
    "        HistGradientBoostingClassifier(random_state=42)\n",
    "    ]\n",
    "\n",
    "    results = {}\n",
    "\n",
    "    for name, clf in zip(names, classifiers):\n",
    "        pipe = make_pipeline(StandardScaler(), clf)\n",
    "        scores = cross_val_score(pipe, X_train, y_train, cv=5, scoring='accuracy', n_jobs=-1)\n",
    "        results[name] = np.mean(scores)\n",
    "        print(f\"Average cross-validation accuracy of {name}: {np.mean(scores):.4f}\")\n",
    "\n",
    "    # Sort results by accuracy\n",
    "    sorted_results = sorted(results.items(), key=lambda x: x[1], reverse=True)\n",
    "\n",
    "    print(\"\\nSorted Model Performance:\")\n",
    "    for name, score in sorted_results:\n",
    "        print(f\"{name}: {score:.4f}\")"
   ]
  },
  {
   "cell_type": "code",
   "execution_count": 124,
   "id": "effc26d7-37c6-4a9a-86e9-c2c7c1184145",
   "metadata": {},
   "outputs": [],
   "source": [
    "# XGB is our choice since we suspect the relationships\n",
    "#Import the extracted features\n",
    "X_train=np.load(\"features_cleaned_120s_train.npy\")\n",
    "y_train=np.load(\"labels_cleaned_120s_train.npy\")\n",
    "X_test=np.load(r\"features_cleaned_120s_test.npy\")\n",
    "y_test=np.load(r\"labels_cleaned_120s_test.npy\")\n",
    "pipe = make_pipeline(StandardScaler(),\n",
    "    XGBClassifier(random_state=42)\n",
    ")"
   ]
  },
  {
   "cell_type": "code",
   "execution_count": 125,
   "id": "16b90fff-6c96-4c02-9345-2635843f6645",
   "metadata": {},
   "outputs": [
    {
     "name": "stdout",
     "output_type": "stream",
     "text": [
      "Fitting 5 folds for each of 20 candidates, totalling 100 fits\n",
      "Best Parameters: {'xgbclassifier__subsample': 0.7, 'xgbclassifier__reg_lambda': 0.1, 'xgbclassifier__reg_alpha': 0.1, 'xgbclassifier__n_estimators': 557, 'xgbclassifier__min_child_weight': 5, 'xgbclassifier__max_depth': 4, 'xgbclassifier__learning_rate': 0.01, 'xgbclassifier__gamma': 1.0, 'xgbclassifier__colsample_bytree': 1.0}\n",
      "Best ROC AUC Score: 0.8439957786462905\n"
     ]
    }
   ],
   "source": [
    "# Define hyperparameter search space\n",
    "param_dist = {\n",
    "    'xgbclassifier__max_depth': np.random.randint(3, 10, 5).tolist(),\n",
    "    'xgbclassifier__learning_rate': np.linspace(0.01, 0.3, 6).tolist(),\n",
    "    'xgbclassifier__gamma': np.linspace(0, 1, 5).tolist(),\n",
    "    'xgbclassifier__n_estimators': np.random.randint(100, 600, 5).tolist(),\n",
    "    'xgbclassifier__subsample': np.linspace(0.7, 1.0, 4).tolist(),\n",
    "    'xgbclassifier__colsample_bytree': np.linspace(0.5, 1.0, 4).tolist(),\n",
    "    'xgbclassifier__reg_lambda': np.logspace(-2, 1, 4).tolist(),\n",
    "    'xgbclassifier__reg_alpha': np.logspace(-2, 1, 4).tolist(),\n",
    "    'xgbclassifier__min_child_weight': np.random.randint(1, 6, 4).tolist(),\n",
    "}\n",
    "# Perform RandomizedSearchCV with 20 random samples\n",
    "random_search = RandomizedSearchCV(\n",
    "    estimator=pipe,\n",
    "    param_distributions=param_dist,\n",
    "    n_iter=20,  # Number of random parameter sets to test\n",
    "    scoring='roc_auc',  # Use ROC AUC for imbalanced data\n",
    "    n_jobs=-1,\n",
    "    cv=5,  # 5-fold cross-validation\n",
    "    verbose=3,\n",
    "    random_state=42\n",
    ")\n",
    "\n",
    "# Fit RandomizedSearch\n",
    "random_search.fit(X_train, y_train)\n",
    "\n",
    "# Print best parameters and best score\n",
    "print(\"Best Parameters:\", random_search.best_params_)\n",
    "print(\"Best ROC AUC Score:\", random_search.best_score_)"
   ]
  },
  {
   "cell_type": "code",
   "execution_count": 126,
   "id": "191cbcdb-7aae-4d92-b938-f3e922759e27",
   "metadata": {},
   "outputs": [
    {
     "name": "stdout",
     "output_type": "stream",
     "text": [
      "Accuracy: 0.8215968112090832\n",
      "Classification Report:\n",
      "               precision    recall  f1-score   support\n",
      "\n",
      "           0       0.83      0.89      0.86     10286\n",
      "           1       0.80      0.71      0.75      6272\n",
      "\n",
      "    accuracy                           0.82     16558\n",
      "   macro avg       0.82      0.80      0.81     16558\n",
      "weighted avg       0.82      0.82      0.82     16558\n",
      "\n"
     ]
    }
   ],
   "source": [
    "# we now check the performance of our model\n",
    "pipe = make_pipeline(StandardScaler(),  XGBClassifier(\n",
    "    subsample=1,\n",
    "    reg_lambda=0.01,\n",
    "    reg_alpha=10.0,\n",
    "    n_estimators=171,\n",
    "    min_child_weight=3,\n",
    "    max_depth=4,\n",
    "    learning_rate=0.126,\n",
    "    gamma=0.5,\n",
    "    colsample_bytree=1,\n",
    "    random_state=42))\n",
    "pipe.fit(X_train,y_train)\n",
    "y_pred = pipe.predict(X_test)\n",
    "\n",
    "# Evaluate performance\n",
    "print(\"Accuracy:\", accuracy_score(y_test, y_pred))\n",
    "print(\"Classification Report:\\n\", classification_report(y_test, y_pred))"
   ]
  },
  {
   "cell_type": "code",
   "execution_count": 127,
   "id": "efe9fe2e-74d3-42d4-8bdc-1ffa78ff19f2",
   "metadata": {},
   "outputs": [
    {
     "name": "stdout",
     "output_type": "stream",
     "text": [
      "Cross-validation accuracy scores: [0.87789281 0.87145903 0.87480963 0.86871764 0.86536704]\n",
      "Mean accuracy: 0.8716492298011793\n"
     ]
    }
   ],
   "source": [
    "cv = StratifiedKFold(n_splits=5, shuffle=True, random_state=41)\n",
    "scores = cross_val_score(pipe, X_train, y_train, cv=cv, scoring='accuracy')\n",
    "print(\"Cross-validation accuracy scores:\", scores)\n",
    "print(\"Mean accuracy:\", scores.mean())"
   ]
  },
  {
   "cell_type": "code",
   "execution_count": 128,
   "id": "9a7a9a37-7cb1-48bc-a3a6-7dc217c26cbb",
   "metadata": {},
   "outputs": [
    {
     "name": "stdout",
     "output_type": "stream",
     "text": [
      "ROC AUC Score: 0.9021830246778859\n"
     ]
    },
    {
     "data": {
      "image/png": "[encoded data removed]",
      "text/plain": [
       "<Figure size 640x480 with 1 Axes>"
      ]
     },
     "metadata": {},
     "output_type": "display_data"
    }
   ],
   "source": [
    "y_proba = pipe.predict_proba(X_test)[:, 1] \n",
    "print(\"ROC AUC Score:\", roc_auc_score(y_test, y_proba))\n",
    "fpr, tpr, _ = roc_curve(y_test, y_proba)\n",
    "plt.plot(fpr, tpr, label=\"ROC Curve\")\n",
    "plt.xlabel(\"False Positive Rate\")\n",
    "plt.ylabel(\"True Positive Rate\")\n",
    "plt.title(\"ROC Curve\")\n",
    "plt.legend()\n",
    "plt.show()"
   ]
  },
  {
   "cell_type": "code",
   "execution_count": 129,
   "id": "3b0b1f34-36b6-42bd-8eb1-db39dc1e1c06",
   "metadata": {},
   "outputs": [
    {
     "data": {
      "image/png": "[encoded data removed]",
      "text/plain": [
       "<Figure size 640x480 with 2 Axes>"
      ]
     },
     "metadata": {},
     "output_type": "display_data"
    }
   ],
   "source": [
    "cm = confusion_matrix(y_test, y_pred)\n",
    "sns.heatmap(cm, annot=True, fmt='d', cmap='Blues')\n",
    "plt.xlabel(\"Predicted Label\")\n",
    "plt.ylabel(\"True Label\")\n",
    "plt.title(\"Confusion Matrix\")\n",
    "plt.show()"
   ]
  },
  {
   "cell_type": "code",
   "execution_count": 130,
   "id": "3e09fc8c-74a5-41f7-b24e-6a23fd6d6ddb",
   "metadata": {
    "scrolled": true
   },
   "outputs": [
    {
     "name": "stdout",
     "output_type": "stream",
     "text": [
      "Accuracy: 0.9073464912280702\n",
      "Classification Report:\n",
      "               precision    recall  f1-score   support\n",
      "\n",
      "           0       0.92      0.93      0.92      9922\n",
      "           1       0.89      0.87      0.88      6494\n",
      "\n",
      "    accuracy                           0.91     16416\n",
      "   macro avg       0.90      0.90      0.90     16416\n",
      "weighted avg       0.91      0.91      0.91     16416\n",
      "\n"
     ]
    }
   ],
   "source": [
    "y_pred = pipe.predict(X_train)\n",
    "\n",
    "# Evaluate performance\n",
    "print(\"Accuracy:\", accuracy_score(y_train, y_pred))\n",
    "print(\"Classification Report:\\n\", classification_report(y_train, y_pred))"
   ]
  },
  {
   "cell_type": "code",
   "execution_count": 131,
   "id": "3b9403c5",
   "metadata": {},
   "outputs": [
    {
     "name": "stdout",
     "output_type": "stream",
     "text": [
      "[(0.10595569, 62), (0.086510934, 8), (0.0682436, 9), (0.054088205, 45), (0.0349585, 36), (0.033935692, 14), (0.032298777, 22), (0.028999992, 49), (0.027181307, 11), (0.026370455, 19), (0.026173674, 12), (0.024736535, 29), (0.02430051, 5), (0.022254368, 35), (0.02147597, 34), (0.020500328, 48), (0.019544583, 16), (0.016380413, 0), (0.01623184, 10), (0.01609794, 37), (0.014370319, 43), (0.014311908, 17), (0.013359159, 42), (0.012781357, 21), (0.012772749, 2), (0.0124092465, 15), (0.010278902, 6), (0.009906924, 41), (0.009451525, 57), (0.009325976, 25), (0.008243985, 63), (0.008212628, 64), (0.008186402, 56), (0.008076194, 4), (0.008047952, 61), (0.007649929, 55), (0.0072615454, 52), (0.0071607674, 46), (0.0068508177, 13), (0.006824708, 31), (0.0066308863, 28), (0.006493758, 30), (0.0061287573, 47), (0.005722999, 23), (0.0056973877, 33), (0.005677159, 50), (0.005337856, 1), (0.005173158, 60), (0.0050882255, 44), (0.004743181, 18), (0.004449065, 54), (0.0043460596, 24), (0.0042782454, 59), (0.003956032, 20), (0.003767334, 40), (0.0036399183, 7), (0.0035941794, 38), (0.0035268639, 58), (0.0033868293, 53), (0.0032948577, 51), (0.002389632, 39), (0.00095528975, 3), (0.0, 32), (0.0, 27), (0.0, 26)]\n"
     ]
    }
   ],
   "source": [
    "# we check feature importance\n",
    "xgb_model = pipe.named_steps['xgbclassifier']\n",
    "feature_importances =sorted(list(zip(xgb_model.feature_importances_,range(65))))[::-1]\n",
    "print(feature_importances)"
   ]
  },
  {
   "cell_type": "code",
   "execution_count": 132,
   "id": "1a907c2c",
   "metadata": {},
   "outputs": [
    {
     "name": "stdout",
     "output_type": "stream",
     "text": [
      "HRV_HFD\n",
      "HRV_MCVNN\n",
      "HRV_IQRNN\n",
      "HRV_SD1a\n",
      "HRV_PSS\n",
      "HRV_pNN20\n",
      "HRV_TP\n",
      "HRV_SD2a\n",
      "HRV_Prc20NN\n",
      "HRV_LF\n",
      "HRV_Prc80NN\n",
      "HRV_SD1SD2\n",
      "HRV_CVSD\n",
      "HRV_IALS\n",
      "HRV_PIP\n",
      "HRV_SD2d\n",
      "HRV_MaxNN\n",
      "HRV_MeanNN\n",
      "HRV_SDRMSSD\n",
      "HRV_PAS\n",
      "HRV_C1a\n",
      "HRV_HTI\n",
      "HRV_C1d\n",
      "HRV_VHF\n",
      "HRV_RMSSD\n",
      "HRV_MinNN\n",
      "HRV_MedianNN\n",
      "HRV_PI\n",
      "HRV_FuzzyEn\n",
      "HRV_HFn\n",
      "HRV_KFD\n",
      "HRV_LZC\n",
      "HRV_ShanEn\n",
      "HRV_CVNN\n",
      "HRV_CD\n",
      "HRV_SampEn\n",
      "HRV_SDNNd\n",
      "HRV_C2d\n",
      "HRV_pNN50\n",
      "HRV_CSI\n",
      "HRV_SD2\n",
      "HRV_S\n",
      "HRV_C2a\n",
      "HRV_LFHF\n",
      "HRV_CSI_Modified\n",
      "HRV_Cd\n",
      "HRV_SDNN\n",
      "HRV_RCMSEn\n",
      "HRV_SD1d\n",
      "HRV_TINN\n",
      "HRV_ApEn\n",
      "HRV_LFn\n",
      "HRV_CMSEn\n",
      "HRV_HF\n",
      "HRV_AI\n",
      "HRV_MadNN\n",
      "HRV_GI\n",
      "HRV_MSEn\n",
      "HRV_SDNNa\n",
      "HRV_Ca\n",
      "HRV_SI\n",
      "HRV_SDSD\n",
      "HRV_CVI\n",
      "HRV_SD1\n",
      "HRV_LnHF\n"
     ]
    }
   ],
   "source": [
    "data = nk.data(\"bio_resting_5min_100hz\")\n",
    "ecg_cleaned = nk.ecg_clean(data[\"ECG\"], sampling_rate=100)\n",
    "peaks, info = nk.ecg_peaks(ecg_cleaned[:60*100], sampling_rate=100, correct_artifacts=True)\n",
    "hrv_indices = nk.hrv(peaks, sampling_rate=100)\n",
    "nans=np.all(np.isnan(hrv_indices.to_numpy()),axis=0)\n",
    "for i in feature_importances:\n",
    "    print(hrv_indices.columns[~nans][i[1]])"
   ]
  }
 ],
 "metadata": {
  "kernelspec": {
   "display_name": "base",
   "language": "python",
   "name": "python3"
  },
  "language_info": {
   "codemirror_mode": {
    "name": "ipython",
    "version": 3
   },
   "file_extension": ".py",
   "mimetype": "text/x-python",
   "name": "python",
   "nbconvert_exporter": "python",
   "pygments_lexer": "ipython3",
   "version": "3.12.7"
  }
 },
 "nbformat": 4,
 "nbformat_minor": 5
}
