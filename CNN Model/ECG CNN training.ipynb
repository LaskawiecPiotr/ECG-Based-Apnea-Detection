{
 "cells": [
  {
   "cell_type": "code",
   "execution_count": 2,
   "metadata": {},
   "outputs": [],
   "source": [
    "# ECG Signal Classification using a Custom CNN (Apnea Detection)\n",
    "#\n",
    "# This notebook tests a custom 1D CNN on ECG signal data. It performs the following:\n",
    "# 1. Loads and normalizes training and test ECG signals.\n",
    "# 2. Splits the data into training and validation sets.\n",
    "# 3. Defines a custom 1D CNN architecture for binary classification.\n",
    "# 4. Trains the model using Ignite with progress bars, early stopping, and learning rate scheduling.\n",
    "# 5. Evaluates the model on a test set and computes various metrics.\n",
    "# 6. Optimizes decision thresholds using ROC and Precision-Recall curves.\n",
    "#\n",
    "# Note: Update file paths as needed."
   ]
  },
  {
   "cell_type": "code",
   "execution_count": 3,
   "metadata": {},
   "outputs": [],
   "source": [
    "import os\n",
    "import glob\n",
    "import gc\n",
    "import cv2\n",
    "import numpy as np\n",
    "import pandas as pd\n",
    "import matplotlib.pyplot as plt\n",
    "import matplotlib.patches as patches\n",
    "\n",
    "import torch\n",
    "import torch.nn as nn\n",
    "import torch.optim as optim\n",
    "import torch.optim.lr_scheduler as lr_scheduler\n",
    "import torch.nn.functional as F\n",
    "from torch.utils.data import Dataset, DataLoader\n",
    "\n",
    "import torchvision.transforms as transforms\n",
    "import torchvision.transforms.v2 as v2\n",
    "from torchvision import models\n",
    "\n",
    "from sklearn.metrics import (accuracy_score, classification_report, confusion_matrix, \n",
    "                             hamming_loss, ConfusionMatrixDisplay, \n",
    "                             precision_score, recall_score, f1_score, roc_curve, auc)\n",
    "from sklearn.model_selection import train_test_split, cross_val_score, StratifiedKFold, GridSearchCV\n",
    "from sklearn.feature_selection import SelectKBest, f_classif\n",
    "\n",
    "import neurokit2 as nk\n",
    "\n",
    "from imblearn.over_sampling import SMOTE\n",
    "from xgboost import XGBClassifier\n",
    "\n",
    "# Ignite imports for training loop management\n",
    "from ignite.engine import Engine, Events, create_supervised_trainer, create_supervised_evaluator\n",
    "from ignite.handlers import EarlyStopping, ModelCheckpoint, TerminateOnNan\n",
    "from ignite.contrib.handlers import ProgressBar\n",
    "from ignite.metrics import Loss, Accuracy, Precision, Recall\n",
    "\n",
    "from tqdm.notebook import tqdm\n",
    "\n",
    "import warnings\n",
    "warnings.filterwarnings(\"ignore\")\n"
   ]
  },
  {
   "cell_type": "code",
   "execution_count": 4,
   "metadata": {},
   "outputs": [],
   "source": [
    "# Data Loading and Normalization (Raw data can be generated from the raw_data_generating jupyter notebook)\n",
    "# Load training ECG signals and labels (assumes numpy arrays are saved at these paths)\n",
    "ECG_signal_train = np.load(r\"C:\\Users\\piotr\\Downloads\\training_signal.npy\")\n",
    "ECG_labels_train = np.load(r\"C:\\Users\\piotr\\Downloads\\training labels.npy\")\n",
    "\n",
    "def z_score_normalization(ecg_signal):\n",
    "    \"\"\"Normalize an ECG signal using Z-score normalization.\"\"\"\n",
    "    mean = np.mean(ecg_signal)\n",
    "    std = np.std(ecg_signal) + 1e-8  # Avoid division by zero\n",
    "    return (ecg_signal - mean) / std\n",
    "\n",
    "# Normalize each ECG signal in the training set\n",
    "for i in range(len(ECG_signal_train)):\n",
    "    ECG_signal_train[i] = z_score_normalization(ECG_signal_train[i])\n",
    "\n",
    "# Split data into training and validation sets\n",
    "data_train, data_val, label_train, label_val = train_test_split(ECG_signal_train, ECG_labels_train)\n"
   ]
  },
  {
   "cell_type": "code",
   "execution_count": 5,
   "metadata": {},
   "outputs": [],
   "source": [
    "# Custom Dataset Definition\n",
    "class My1DDataset(Dataset):\n",
    "    def __init__(self, data, labels):\n",
    "        if isinstance(data, np.ndarray):\n",
    "            data = torch.tensor(data, dtype=torch.float32)\n",
    "        if data.ndim == 2:\n",
    "            data = data.unsqueeze(1)  # Add channel dimension\n",
    "        self.data = data.to(device) if device else data\n",
    "        self.labels = torch.tensor(labels, dtype=torch.float32).view(-1, 1)\n",
    "        if device:\n",
    "            self.labels = self.labels.to(device)\n",
    "\n",
    "    def __len__(self):\n",
    "        return len(self.data)\n",
    "\n",
    "    def __getitem__(self, idx):\n",
    "        return self.data[idx], self.labels[idx]"
   ]
  },
  {
   "cell_type": "code",
   "execution_count": 6,
   "metadata": {},
   "outputs": [],
   "source": [
    "# CNN Model Definition\n",
    "class CNNBlock(nn.Module):\n",
    "    \"\"\"\n",
    "    A basic 1D CNN block: Conv1d -> BatchNorm1d -> ReLU -> MaxPool1d -> Dropout.\n",
    "    \"\"\"\n",
    "    def __init__(self, in_channels, out_channels, kernel_size=32):\n",
    "        super(CNNBlock, self).__init__()\n",
    "        self.conv = nn.Conv1d(in_channels, out_channels, kernel_size=kernel_size, padding='same')\n",
    "        self.bn = nn.BatchNorm1d(out_channels)\n",
    "        self.pool = nn.MaxPool1d(kernel_size=2, stride=2)\n",
    "        self.dropout = nn.Dropout(0.5)\n",
    "\n",
    "    def forward(self, x):\n",
    "        x = F.relu(self.bn(self.conv(x))) \n",
    "        x = self.pool(x) \n",
    "        x = self.dropout(x)  \n",
    "        return x\n",
    "class ApneaCNN(nn.Module):\n",
    "    \"\"\"\n",
    "    CNN model for apnea detection on ECG signals.\n",
    "    Architecture: 10 CNN blocks followed by fully connected layers.\n",
    "    \"\"\"\n",
    "    def __init__(self, input_channels=1, input_length=12000):\n",
    "        super(ApneaCNN, self).__init__()\n",
    "\n",
    "        # Feature Extraction: 10 CNN layers\n",
    "        self.conv_layers = nn.Sequential(\n",
    "            CNNBlock(input_channels, 45),\n",
    "            CNNBlock(45, 45),\n",
    "            CNNBlock(45, 45),\n",
    "            CNNBlock(45, 45),\n",
    "            CNNBlock(45, 45),\n",
    "            CNNBlock(45, 45),\n",
    "            CNNBlock(45, 45),\n",
    "            CNNBlock(45, 45),\n",
    "            CNNBlock(45, 45),\n",
    "            CNNBlock(45, 45)\n",
    "        )\n",
    "\n",
    "\n",
    "        # Fully Connected Layers\n",
    "        self.fc_layers = nn.Sequential(\n",
    "            nn.Flatten(),\n",
    "            nn.Linear(11*45, 512),\n",
    "            nn.BatchNorm1d(512),\n",
    "            nn.ReLU(),\n",
    "            nn.Dropout(0.5),\n",
    "\n",
    "            nn.Linear(512, 512),\n",
    "            nn.BatchNorm1d(512),\n",
    "            nn.ReLU(),\n",
    "            nn.Dropout(0.5),\n",
    "\n",
    "            nn.Linear(512, 512),\n",
    "            nn.BatchNorm1d(512),\n",
    "            nn.ReLU(),\n",
    "            nn.Dropout(0.5),\n",
    "\n",
    "            nn.Linear(512, 512),\n",
    "            nn.BatchNorm1d(512),\n",
    "            nn.ReLU(),\n",
    "            nn.Dropout(0.5),\n",
    "\n",
    "            nn.Linear(512, 1),  # Output: Binary classification\n",
    "        )\n",
    "\n",
    "    def forward(self, x):\n",
    "        x = self.conv_layers(x)\n",
    "        x = self.fc_layers(x)\n",
    "        return x"
   ]
  },
  {
   "cell_type": "code",
   "execution_count": 7,
   "metadata": {},
   "outputs": [],
   "source": [
    "# Setup Training Environment\n",
    "device = torch.device(\"cuda\" if torch.cuda.is_available() else \"cpu\")\n",
    "model = ApneaCNN().to(device)\n",
    "\n",
    "# Define loss function and optimizer\n",
    "criterion = nn.BCEWithLogitsLoss().to(device)\n",
    "optimizer = torch.optim.Adam(model.parameters(), lr=0.001)\n",
    "scheduler = lr_scheduler.ReduceLROnPlateau(optimizer, mode='min', patience=3)\n",
    "\n",
    "# Create datasets and dataloaders for training and validation\n",
    "train_dataset = My1DDataset(data_train, label_train)\n",
    "val_dataset = My1DDataset(data_val, label_val)\n",
    "train_loader = DataLoader(train_dataset, batch_size=16, shuffle=True, num_workers=0)\n",
    "val_loader = DataLoader(val_dataset, batch_size=16, shuffle=False, num_workers=0)"
   ]
  },
  {
   "cell_type": "code",
   "execution_count": 8,
   "metadata": {},
   "outputs": [],
   "source": [
    "# Create a supervised trainer using Ignite\n",
    "trainer = create_supervised_trainer(model, optimizer, criterion, device=device)\n",
    "\n",
    "# Function to threshold outputs for evaluation (sigmoid then round)\n",
    "def thresholded_output_transform(output):\n",
    "    y_pred, y = output\n",
    "    y_pred = torch.round(torch.sigmoid(y_pred))\n",
    "    return y_pred, y\n",
    "\n",
    "# Define evaluation metrics\n",
    "val_metrics = {\n",
    "    \"accuracy\": Accuracy(output_transform=thresholded_output_transform),\n",
    "    \"precision\": Precision(output_transform=thresholded_output_transform),\n",
    "    \"recall\": Recall(output_transform=thresholded_output_transform),\n",
    "    \"loss\": Loss(criterion)\n",
    "}\n",
    "\n",
    "train_evaluator = create_supervised_evaluator(model, metrics=val_metrics, device=device)\n",
    "val_evaluator = create_supervised_evaluator(model, metrics=val_metrics, device=device)\n",
    "\n",
    "# Attach a progress bar\n",
    "pbar = ProgressBar(persist=True)\n",
    "pbar.attach(trainer, output_transform=lambda x: {\"loss\": x})\n"
   ]
  },
  {
   "cell_type": "code",
   "execution_count": 9,
   "metadata": {},
   "outputs": [
    {
     "data": {
      "text/plain": [
       "<ignite.engine.events.RemovableEventHandle at 0x277d6df6900>"
      ]
     },
     "execution_count": 9,
     "metadata": {},
     "output_type": "execute_result"
    }
   ],
   "source": [
    "# Ignite Event Handlers\n",
    "\n",
    "@trainer.on(Events.EPOCH_COMPLETED)\n",
    "def run_validation(engine):\n",
    "    val_evaluator.run(val_loader)\n",
    "    metrics = val_evaluator.state.metrics\n",
    "    avg_accuracy = metrics['accuracy']\n",
    "    avg_loss = metrics['loss']\n",
    "    print(f\"\\nValidation - Epoch: {engine.state.epoch} | \"\n",
    "          f\"Avg accuracy: {avg_accuracy:.4f} | Avg loss: {avg_loss:.4f}\")\n",
    "@trainer.on(Events.EPOCH_COMPLETED)\n",
    "def log_learning_rate(engine):\n",
    "    current_lr = optimizer.param_groups[0]['lr']\n",
    "    print(f\"Learning Rate after Epoch {engine.state.epoch}: {current_lr:.6f}\")\n",
    "@trainer.on(Events.EPOCH_COMPLETED)\n",
    "def run_scheduler(engine):\n",
    "    val_loss = val_evaluator.state.metrics[\"loss\"]\n",
    "    scheduler.step(val_loss)\n",
    "    print(f\"Scheduler stepped with validation loss: {val_loss:.4f}\")\n",
    "    \n",
    "early_stopping = EarlyStopping(\n",
    "    patience=10,  # Number of epochs to wait without improvement\n",
    "    score_function=lambda engine: -engine.state.metrics[\"loss\"],  # Use validation loss (negative for minimizing)\n",
    "    trainer=trainer\n",
    ")\n",
    "val_evaluator.add_event_handler(Events.COMPLETED, early_stopping)\n",
    "trainer.add_event_handler(Events.ITERATION_COMPLETED, TerminateOnNan())\n",
    "\n",
    "checkpoint_handler = ModelCheckpoint(\n",
    "    dirname='checkpoints',\n",
    "    filename_prefix='chestxray',\n",
    "    n_saved=1,\n",
    "    create_dir=True,\n",
    "    require_empty=False,\n",
    "    score_function=lambda e: -e.state.metrics[\"loss\"], \n",
    "    score_name=\"val_loss\",\n",
    "    global_step_transform=lambda e, _: e.state.epoch\n",
    ")\n",
    "\n",
    "val_evaluator.add_event_handler(Events.COMPLETED, checkpoint_handler, {\n",
    "    'best_model': model\n",
    "})"
   ]
  },
  {
   "cell_type": "code",
   "execution_count": null,
   "metadata": {},
   "outputs": [
    {
     "data": {
      "application/vnd.jupyter.widget-view+json": {
       "model_id": "0a0d04eeb5904f00af6925e2ae8ba1b6",
       "version_major": 2,
       "version_minor": 0
      },
      "text/plain": [
       "[1/772]   0%|           [00:00<?]"
      ]
     },
     "metadata": {},
     "output_type": "display_data"
    },
    {
     "name": "stdout",
     "output_type": "stream",
     "text": [
      "\n",
      "Validation - Epoch: 1 | Avg accuracy: 0.8274 | Avg loss: 0.3880\n",
      "Learning Rate after Epoch 1: 0.001000\n",
      "Scheduler stepped with validation loss: 0.3880\n"
     ]
    },
    {
     "data": {
      "application/vnd.jupyter.widget-view+json": {
       "model_id": "0cad351e72bb4dd7bcc89fe0365ade20",
       "version_major": 2,
       "version_minor": 0
      },
      "text/plain": [
       "[1/772]   0%|           [00:00<?]"
      ]
     },
     "metadata": {},
     "output_type": "display_data"
    },
    {
     "name": "stdout",
     "output_type": "stream",
     "text": [
      "\n",
      "Validation - Epoch: 2 | Avg accuracy: 0.8233 | Avg loss: 0.3883\n",
      "Learning Rate after Epoch 2: 0.001000\n",
      "Scheduler stepped with validation loss: 0.3883\n"
     ]
    },
    {
     "data": {
      "application/vnd.jupyter.widget-view+json": {
       "model_id": "4e9cbcd108f24d1694c94e85b6a119a7",
       "version_major": 2,
       "version_minor": 0
      },
      "text/plain": [
       "[1/772]   0%|           [00:00<?]"
      ]
     },
     "metadata": {},
     "output_type": "display_data"
    },
    {
     "name": "stdout",
     "output_type": "stream",
     "text": [
      "\n",
      "Validation - Epoch: 3 | Avg accuracy: 0.8026 | Avg loss: 0.3773\n",
      "Learning Rate after Epoch 3: 0.001000\n",
      "Scheduler stepped with validation loss: 0.3773\n"
     ]
    },
    {
     "data": {
      "application/vnd.jupyter.widget-view+json": {
       "model_id": "6fb9c70fd9fb48e3b7e3d9399eef62c3",
       "version_major": 2,
       "version_minor": 0
      },
      "text/plain": [
       "[1/772]   0%|           [00:00<?]"
      ]
     },
     "metadata": {},
     "output_type": "display_data"
    },
    {
     "name": "stdout",
     "output_type": "stream",
     "text": [
      "\n",
      "Validation - Epoch: 4 | Avg accuracy: 0.8763 | Avg loss: 0.2809\n",
      "Learning Rate after Epoch 4: 0.001000\n",
      "Scheduler stepped with validation loss: 0.2809\n"
     ]
    },
    {
     "data": {
      "application/vnd.jupyter.widget-view+json": {
       "model_id": "b322238cf3264ab2974a8a011f63301b",
       "version_major": 2,
       "version_minor": 0
      },
      "text/plain": [
       "[1/772]   0%|           [00:00<?]"
      ]
     },
     "metadata": {},
     "output_type": "display_data"
    },
    {
     "name": "stdout",
     "output_type": "stream",
     "text": [
      "\n",
      "Validation - Epoch: 5 | Avg accuracy: 0.8933 | Avg loss: 0.2634\n",
      "Learning Rate after Epoch 5: 0.001000\n",
      "Scheduler stepped with validation loss: 0.2634\n"
     ]
    },
    {
     "data": {
      "application/vnd.jupyter.widget-view+json": {
       "model_id": "bcda46d6ea8844a5ac1ae9c4d8f3697e",
       "version_major": 2,
       "version_minor": 0
      },
      "text/plain": [
       "[1/772]   0%|           [00:00<?]"
      ]
     },
     "metadata": {},
     "output_type": "display_data"
    },
    {
     "name": "stdout",
     "output_type": "stream",
     "text": [
      "\n",
      "Validation - Epoch: 6 | Avg accuracy: 0.9181 | Avg loss: 0.2299\n",
      "Learning Rate after Epoch 6: 0.001000\n",
      "Scheduler stepped with validation loss: 0.2299\n"
     ]
    },
    {
     "data": {
      "application/vnd.jupyter.widget-view+json": {
       "model_id": "1654c7822f0d4b418bbe215ca3641669",
       "version_major": 2,
       "version_minor": 0
      },
      "text/plain": [
       "[1/772]   0%|           [00:00<?]"
      ]
     },
     "metadata": {},
     "output_type": "display_data"
    },
    {
     "name": "stdout",
     "output_type": "stream",
     "text": [
      "\n",
      "Validation - Epoch: 7 | Avg accuracy: 0.8775 | Avg loss: 0.2587\n",
      "Learning Rate after Epoch 7: 0.001000\n",
      "Scheduler stepped with validation loss: 0.2587\n"
     ]
    },
    {
     "data": {
      "application/vnd.jupyter.widget-view+json": {
       "model_id": "157c5aca59e0490f99f3b7926131f970",
       "version_major": 2,
       "version_minor": 0
      },
      "text/plain": [
       "[1/772]   0%|           [00:00<?]"
      ]
     },
     "metadata": {},
     "output_type": "display_data"
    },
    {
     "name": "stdout",
     "output_type": "stream",
     "text": [
      "\n",
      "Validation - Epoch: 8 | Avg accuracy: 0.9125 | Avg loss: 0.2339\n",
      "Learning Rate after Epoch 8: 0.001000\n",
      "Scheduler stepped with validation loss: 0.2339\n"
     ]
    },
    {
     "data": {
      "application/vnd.jupyter.widget-view+json": {
       "model_id": "295e669a891d42f09203bfea223304c2",
       "version_major": 2,
       "version_minor": 0
      },
      "text/plain": [
       "[1/772]   0%|           [00:00<?]"
      ]
     },
     "metadata": {},
     "output_type": "display_data"
    },
    {
     "name": "stdout",
     "output_type": "stream",
     "text": [
      "\n",
      "Validation - Epoch: 9 | Avg accuracy: 0.9210 | Avg loss: 0.2038\n",
      "Learning Rate after Epoch 9: 0.001000\n",
      "Scheduler stepped with validation loss: 0.2038\n"
     ]
    },
    {
     "data": {
      "application/vnd.jupyter.widget-view+json": {
       "model_id": "014229e79f8c42c0857e165e699f565e",
       "version_major": 2,
       "version_minor": 0
      },
      "text/plain": [
       "[1/772]   0%|           [00:00<?]"
      ]
     },
     "metadata": {},
     "output_type": "display_data"
    },
    {
     "name": "stdout",
     "output_type": "stream",
     "text": [
      "\n",
      "Validation - Epoch: 10 | Avg accuracy: 0.9132 | Avg loss: 0.2058\n",
      "Learning Rate after Epoch 10: 0.001000\n",
      "Scheduler stepped with validation loss: 0.2058\n"
     ]
    },
    {
     "data": {
      "application/vnd.jupyter.widget-view+json": {
       "model_id": "b51d9c5b059e416fbd934551459c5e91",
       "version_major": 2,
       "version_minor": 0
      },
      "text/plain": [
       "[1/772]   0%|           [00:00<?]"
      ]
     },
     "metadata": {},
     "output_type": "display_data"
    },
    {
     "name": "stdout",
     "output_type": "stream",
     "text": [
      "\n",
      "Validation - Epoch: 11 | Avg accuracy: 0.9317 | Avg loss: 0.1765\n",
      "Learning Rate after Epoch 11: 0.001000\n",
      "Scheduler stepped with validation loss: 0.1765\n"
     ]
    },
    {
     "data": {
      "application/vnd.jupyter.widget-view+json": {
       "model_id": "3bd153421d524750a22b614128975177",
       "version_major": 2,
       "version_minor": 0
      },
      "text/plain": [
       "[1/772]   0%|           [00:00<?]"
      ]
     },
     "metadata": {},
     "output_type": "display_data"
    },
    {
     "name": "stdout",
     "output_type": "stream",
     "text": [
      "\n",
      "Validation - Epoch: 12 | Avg accuracy: 0.9251 | Avg loss: 0.1776\n",
      "Learning Rate after Epoch 12: 0.001000\n",
      "Scheduler stepped with validation loss: 0.1776\n"
     ]
    },
    {
     "data": {
      "application/vnd.jupyter.widget-view+json": {
       "model_id": "a02b8f3cca01400ca9513263aeb2c052",
       "version_major": 2,
       "version_minor": 0
      },
      "text/plain": [
       "[1/772]   0%|           [00:00<?]"
      ]
     },
     "metadata": {},
     "output_type": "display_data"
    },
    {
     "name": "stdout",
     "output_type": "stream",
     "text": [
      "\n",
      "Validation - Epoch: 13 | Avg accuracy: 0.9203 | Avg loss: 0.1958\n",
      "Learning Rate after Epoch 13: 0.001000\n",
      "Scheduler stepped with validation loss: 0.1958\n"
     ]
    },
    {
     "data": {
      "application/vnd.jupyter.widget-view+json": {
       "model_id": "34d3f18df43f4666a04f52f2a30f68a0",
       "version_major": 2,
       "version_minor": 0
      },
      "text/plain": [
       "[1/772]   0%|           [00:00<?]"
      ]
     },
     "metadata": {},
     "output_type": "display_data"
    },
    {
     "name": "stdout",
     "output_type": "stream",
     "text": [
      "\n",
      "Validation - Epoch: 14 | Avg accuracy: 0.9322 | Avg loss: 0.1720\n",
      "Learning Rate after Epoch 14: 0.001000\n",
      "Scheduler stepped with validation loss: 0.1720\n"
     ]
    },
    {
     "data": {
      "application/vnd.jupyter.widget-view+json": {
       "model_id": "1964d1a7dd014c0d86e2f55f49aebb01",
       "version_major": 2,
       "version_minor": 0
      },
      "text/plain": [
       "[1/772]   0%|           [00:00<?]"
      ]
     },
     "metadata": {},
     "output_type": "display_data"
    },
    {
     "name": "stdout",
     "output_type": "stream",
     "text": [
      "\n",
      "Validation - Epoch: 15 | Avg accuracy: 0.9045 | Avg loss: 0.1937\n",
      "Learning Rate after Epoch 15: 0.001000\n",
      "Scheduler stepped with validation loss: 0.1937\n"
     ]
    },
    {
     "data": {
      "application/vnd.jupyter.widget-view+json": {
       "model_id": "5c946125fb7e4560a695a1d3348136f4",
       "version_major": 2,
       "version_minor": 0
      },
      "text/plain": [
       "[1/772]   0%|           [00:00<?]"
      ]
     },
     "metadata": {},
     "output_type": "display_data"
    },
    {
     "name": "stdout",
     "output_type": "stream",
     "text": [
      "\n",
      "Validation - Epoch: 16 | Avg accuracy: 0.9259 | Avg loss: 0.1782\n",
      "Learning Rate after Epoch 16: 0.001000\n",
      "Scheduler stepped with validation loss: 0.1782\n"
     ]
    },
    {
     "data": {
      "application/vnd.jupyter.widget-view+json": {
       "model_id": "f9e0bb968ffd49648e6b5a6d0642bc2b",
       "version_major": 2,
       "version_minor": 0
      },
      "text/plain": [
       "[1/772]   0%|           [00:00<?]"
      ]
     },
     "metadata": {},
     "output_type": "display_data"
    },
    {
     "name": "stdout",
     "output_type": "stream",
     "text": [
      "\n",
      "Validation - Epoch: 17 | Avg accuracy: 0.9329 | Avg loss: 0.1701\n",
      "Learning Rate after Epoch 17: 0.001000\n",
      "Scheduler stepped with validation loss: 0.1701\n"
     ]
    },
    {
     "data": {
      "application/vnd.jupyter.widget-view+json": {
       "model_id": "041a2305e697484c901f10361f7f96eb",
       "version_major": 2,
       "version_minor": 0
      },
      "text/plain": [
       "[1/772]   0%|           [00:00<?]"
      ]
     },
     "metadata": {},
     "output_type": "display_data"
    },
    {
     "name": "stdout",
     "output_type": "stream",
     "text": [
      "\n",
      "Validation - Epoch: 18 | Avg accuracy: 0.9268 | Avg loss: 0.1719\n",
      "Learning Rate after Epoch 18: 0.001000\n",
      "Scheduler stepped with validation loss: 0.1719\n"
     ]
    },
    {
     "data": {
      "application/vnd.jupyter.widget-view+json": {
       "model_id": "4fb4210ddb06492a995222f76c35b078",
       "version_major": 2,
       "version_minor": 0
      },
      "text/plain": [
       "[1/772]   0%|           [00:00<?]"
      ]
     },
     "metadata": {},
     "output_type": "display_data"
    },
    {
     "name": "stdout",
     "output_type": "stream",
     "text": [
      "\n",
      "Validation - Epoch: 19 | Avg accuracy: 0.9356 | Avg loss: 0.1617\n",
      "Learning Rate after Epoch 19: 0.001000\n",
      "Scheduler stepped with validation loss: 0.1617\n"
     ]
    },
    {
     "data": {
      "application/vnd.jupyter.widget-view+json": {
       "model_id": "f5439576c211405fb5474741e3d90781",
       "version_major": 2,
       "version_minor": 0
      },
      "text/plain": [
       "[1/772]   0%|           [00:00<?]"
      ]
     },
     "metadata": {},
     "output_type": "display_data"
    },
    {
     "name": "stdout",
     "output_type": "stream",
     "text": [
      "\n",
      "Validation - Epoch: 20 | Avg accuracy: 0.9334 | Avg loss: 0.1599\n",
      "Learning Rate after Epoch 20: 0.001000\n",
      "Scheduler stepped with validation loss: 0.1599\n"
     ]
    },
    {
     "data": {
      "application/vnd.jupyter.widget-view+json": {
       "model_id": "c488b191f13c47f1a70ac2164c024618",
       "version_major": 2,
       "version_minor": 0
      },
      "text/plain": [
       "[1/772]   0%|           [00:00<?]"
      ]
     },
     "metadata": {},
     "output_type": "display_data"
    },
    {
     "name": "stdout",
     "output_type": "stream",
     "text": [
      "\n",
      "Validation - Epoch: 21 | Avg accuracy: 0.9312 | Avg loss: 0.1724\n",
      "Learning Rate after Epoch 21: 0.001000\n",
      "Scheduler stepped with validation loss: 0.1724\n"
     ]
    },
    {
     "data": {
      "application/vnd.jupyter.widget-view+json": {
       "model_id": "a954e73822e8468780cd1057623e91e0",
       "version_major": 2,
       "version_minor": 0
      },
      "text/plain": [
       "[1/772]   0%|           [00:00<?]"
      ]
     },
     "metadata": {},
     "output_type": "display_data"
    },
    {
     "name": "stdout",
     "output_type": "stream",
     "text": [
      "\n",
      "Validation - Epoch: 22 | Avg accuracy: 0.9392 | Avg loss: 0.1589\n",
      "Learning Rate after Epoch 22: 0.001000\n",
      "Scheduler stepped with validation loss: 0.1589\n"
     ]
    },
    {
     "data": {
      "application/vnd.jupyter.widget-view+json": {
       "model_id": "cfec1917b8924d15b1c17c192935885d",
       "version_major": 2,
       "version_minor": 0
      },
      "text/plain": [
       "[1/772]   0%|           [00:00<?]"
      ]
     },
     "metadata": {},
     "output_type": "display_data"
    },
    {
     "name": "stdout",
     "output_type": "stream",
     "text": [
      "\n",
      "Validation - Epoch: 23 | Avg accuracy: 0.9256 | Avg loss: 0.1904\n",
      "Learning Rate after Epoch 23: 0.001000\n",
      "Scheduler stepped with validation loss: 0.1904\n"
     ]
    },
    {
     "data": {
      "application/vnd.jupyter.widget-view+json": {
       "model_id": "04cac9fb9ced4d6295bb06b30539ffd2",
       "version_major": 2,
       "version_minor": 0
      },
      "text/plain": [
       "[1/772]   0%|           [00:00<?]"
      ]
     },
     "metadata": {},
     "output_type": "display_data"
    },
    {
     "name": "stdout",
     "output_type": "stream",
     "text": [
      "\n",
      "Validation - Epoch: 24 | Avg accuracy: 0.9349 | Avg loss: 0.1601\n",
      "Learning Rate after Epoch 24: 0.001000\n",
      "Scheduler stepped with validation loss: 0.1601\n"
     ]
    },
    {
     "data": {
      "application/vnd.jupyter.widget-view+json": {
       "model_id": "f62fda80203d4ee5aa25c2db05605295",
       "version_major": 2,
       "version_minor": 0
      },
      "text/plain": [
       "[1/772]   0%|           [00:00<?]"
      ]
     },
     "metadata": {},
     "output_type": "display_data"
    },
    {
     "name": "stdout",
     "output_type": "stream",
     "text": [
      "\n",
      "Validation - Epoch: 25 | Avg accuracy: 0.9176 | Avg loss: 0.2073\n",
      "Learning Rate after Epoch 25: 0.001000\n",
      "Scheduler stepped with validation loss: 0.2073\n"
     ]
    },
    {
     "data": {
      "application/vnd.jupyter.widget-view+json": {
       "model_id": "f6fb55bf425e46ddaec4bd25d53f90b3",
       "version_major": 2,
       "version_minor": 0
      },
      "text/plain": [
       "[1/772]   0%|           [00:00<?]"
      ]
     },
     "metadata": {},
     "output_type": "display_data"
    },
    {
     "name": "stdout",
     "output_type": "stream",
     "text": [
      "\n",
      "Validation - Epoch: 26 | Avg accuracy: 0.9302 | Avg loss: 0.1721\n",
      "Learning Rate after Epoch 26: 0.001000\n",
      "Scheduler stepped with validation loss: 0.1721\n"
     ]
    },
    {
     "data": {
      "application/vnd.jupyter.widget-view+json": {
       "model_id": "9870515694874b8ebc450446efa92046",
       "version_major": 2,
       "version_minor": 0
      },
      "text/plain": [
       "[1/772]   0%|           [00:00<?]"
      ]
     },
     "metadata": {},
     "output_type": "display_data"
    },
    {
     "name": "stdout",
     "output_type": "stream",
     "text": [
      "\n",
      "Validation - Epoch: 27 | Avg accuracy: 0.9446 | Avg loss: 0.1384\n",
      "Learning Rate after Epoch 27: 0.000100\n",
      "Scheduler stepped with validation loss: 0.1384\n"
     ]
    },
    {
     "data": {
      "application/vnd.jupyter.widget-view+json": {
       "model_id": "24dd969f27b74a8c80b0998c626c48c0",
       "version_major": 2,
       "version_minor": 0
      },
      "text/plain": [
       "[1/772]   0%|           [00:00<?]"
      ]
     },
     "metadata": {},
     "output_type": "display_data"
    },
    {
     "name": "stdout",
     "output_type": "stream",
     "text": [
      "\n",
      "Validation - Epoch: 28 | Avg accuracy: 0.9412 | Avg loss: 0.1454\n",
      "Learning Rate after Epoch 28: 0.000100\n",
      "Scheduler stepped with validation loss: 0.1454\n"
     ]
    },
    {
     "data": {
      "application/vnd.jupyter.widget-view+json": {
       "model_id": "28a7a19725254a93af0abf7afb911604",
       "version_major": 2,
       "version_minor": 0
      },
      "text/plain": [
       "[1/772]   0%|           [00:00<?]"
      ]
     },
     "metadata": {},
     "output_type": "display_data"
    },
    {
     "name": "stdout",
     "output_type": "stream",
     "text": [
      "\n",
      "Validation - Epoch: 29 | Avg accuracy: 0.9324 | Avg loss: 0.1594\n",
      "Learning Rate after Epoch 29: 0.000100\n",
      "Scheduler stepped with validation loss: 0.1594\n"
     ]
    },
    {
     "data": {
      "application/vnd.jupyter.widget-view+json": {
       "model_id": "788bff85806144fc98a64940d84bfbb2",
       "version_major": 2,
       "version_minor": 0
      },
      "text/plain": [
       "[1/772]   0%|           [00:00<?]"
      ]
     },
     "metadata": {},
     "output_type": "display_data"
    },
    {
     "name": "stdout",
     "output_type": "stream",
     "text": [
      "\n",
      "Validation - Epoch: 30 | Avg accuracy: 0.9400 | Avg loss: 0.1481\n",
      "Learning Rate after Epoch 30: 0.000100\n",
      "Scheduler stepped with validation loss: 0.1481\n"
     ]
    },
    {
     "data": {
      "application/vnd.jupyter.widget-view+json": {
       "model_id": "920ec6edf2104242b62f97b544f89898",
       "version_major": 2,
       "version_minor": 0
      },
      "text/plain": [
       "[1/772]   0%|           [00:00<?]"
      ]
     },
     "metadata": {},
     "output_type": "display_data"
    },
    {
     "name": "stdout",
     "output_type": "stream",
     "text": [
      "\n",
      "Validation - Epoch: 31 | Avg accuracy: 0.9439 | Avg loss: 0.1389\n",
      "Learning Rate after Epoch 31: 0.000100\n",
      "Scheduler stepped with validation loss: 0.1389\n"
     ]
    },
    {
     "data": {
      "application/vnd.jupyter.widget-view+json": {
       "model_id": "e358084ee0564f1b94f7d87a28d9730f",
       "version_major": 2,
       "version_minor": 0
      },
      "text/plain": [
       "[1/772]   0%|           [00:00<?]"
      ]
     },
     "metadata": {},
     "output_type": "display_data"
    },
    {
     "name": "stdout",
     "output_type": "stream",
     "text": [
      "\n",
      "Validation - Epoch: 32 | Avg accuracy: 0.9434 | Avg loss: 0.1404\n",
      "Learning Rate after Epoch 32: 0.000010\n",
      "Scheduler stepped with validation loss: 0.1404\n"
     ]
    },
    {
     "data": {
      "application/vnd.jupyter.widget-view+json": {
       "model_id": "fb4f03f58336469db87713513624b24a",
       "version_major": 2,
       "version_minor": 0
      },
      "text/plain": [
       "[1/772]   0%|           [00:00<?]"
      ]
     },
     "metadata": {},
     "output_type": "display_data"
    },
    {
     "name": "stdout",
     "output_type": "stream",
     "text": [
      "\n",
      "Validation - Epoch: 33 | Avg accuracy: 0.9363 | Avg loss: 0.1531\n",
      "Learning Rate after Epoch 33: 0.000010\n",
      "Scheduler stepped with validation loss: 0.1531\n"
     ]
    },
    {
     "data": {
      "application/vnd.jupyter.widget-view+json": {
       "model_id": "e33847ae6cef4606bf5d4cbd9ffa49d7",
       "version_major": 2,
       "version_minor": 0
      },
      "text/plain": [
       "[1/772]   0%|           [00:00<?]"
      ]
     },
     "metadata": {},
     "output_type": "display_data"
    },
    {
     "name": "stdout",
     "output_type": "stream",
     "text": [
      "\n",
      "Validation - Epoch: 34 | Avg accuracy: 0.9298 | Avg loss: 0.1611\n",
      "Learning Rate after Epoch 34: 0.000010\n",
      "Scheduler stepped with validation loss: 0.1611\n"
     ]
    },
    {
     "data": {
      "application/vnd.jupyter.widget-view+json": {
       "model_id": "e24134d89f5e43318dfa35444a6d3814",
       "version_major": 2,
       "version_minor": 0
      },
      "text/plain": [
       "[1/772]   0%|           [00:00<?]"
      ]
     },
     "metadata": {},
     "output_type": "display_data"
    },
    {
     "name": "stdout",
     "output_type": "stream",
     "text": [
      "\n",
      "Validation - Epoch: 35 | Avg accuracy: 0.9378 | Avg loss: 0.1493\n",
      "Learning Rate after Epoch 35: 0.000010\n",
      "Scheduler stepped with validation loss: 0.1493\n"
     ]
    },
    {
     "data": {
      "application/vnd.jupyter.widget-view+json": {
       "model_id": "e0971ed9c07a467db7f9d74ee6701ac6",
       "version_major": 2,
       "version_minor": 0
      },
      "text/plain": [
       "[1/772]   0%|           [00:00<?]"
      ]
     },
     "metadata": {},
     "output_type": "display_data"
    },
    {
     "name": "stdout",
     "output_type": "stream",
     "text": [
      "\n",
      "Validation - Epoch: 36 | Avg accuracy: 0.9407 | Avg loss: 0.1417\n",
      "Learning Rate after Epoch 36: 0.000001\n",
      "Scheduler stepped with validation loss: 0.1417\n"
     ]
    },
    {
     "data": {
      "application/vnd.jupyter.widget-view+json": {
       "model_id": "b379eeb24ddf4a96908c11b6f1bfbee6",
       "version_major": 2,
       "version_minor": 0
      },
      "text/plain": [
       "[1/772]   0%|           [00:00<?]"
      ]
     },
     "metadata": {},
     "output_type": "display_data"
    },
    {
     "name": "stderr",
     "output_type": "stream",
     "text": [
      "2025-03-02 23:26:59,529 ignite.handlers.early_stopping.EarlyStopping INFO: EarlyStopping: Stop training\n"
     ]
    },
    {
     "name": "stdout",
     "output_type": "stream",
     "text": [
      "\n",
      "Validation - Epoch: 37 | Avg accuracy: 0.9409 | Avg loss: 0.1441\n",
      "Learning Rate after Epoch 37: 0.000001\n",
      "Scheduler stepped with validation loss: 0.1441\n"
     ]
    },
    {
     "data": {
      "text/plain": [
       "State:\n",
       "\titeration: 28564\n",
       "\tepoch: 37\n",
       "\tepoch_length: 772\n",
       "\tmax_epochs: 1000\n",
       "\toutput: 0.016604488715529442\n",
       "\tbatch: <class 'list'>\n",
       "\tmetrics: <class 'dict'>\n",
       "\tdataloader: <class 'torch.utils.data.dataloader.DataLoader'>\n",
       "\tseed: <class 'NoneType'>\n",
       "\ttimes: <class 'dict'>"
      ]
     },
     "execution_count": 10,
     "metadata": {},
     "output_type": "execute_result"
    }
   ],
   "source": [
    "# Run training for a maximum of 1000 epochs. The early stopping will kick in around 37 epochs.\n",
    "trainer.run(train_loader, max_epochs=1000)"
   ]
  },
  {
   "cell_type": "code",
   "execution_count": 11,
   "metadata": {},
   "outputs": [
    {
     "name": "stdout",
     "output_type": "stream",
     "text": [
      "\n",
      "Classification Report (Per-Class):\n",
      "              precision    recall  f1-score   support\n",
      "\n",
      "           0       0.84      0.97      0.90     10363\n",
      "           1       0.94      0.69      0.80      6273\n",
      "\n",
      "    accuracy                           0.87     16636\n",
      "   macro avg       0.89      0.83      0.85     16636\n",
      "weighted avg       0.88      0.87      0.86     16636\n",
      "\n"
     ]
    }
   ],
   "source": [
    "# Load test data\n",
    "ECG_signal_test = np.load(r\"C:\\Users\\piotr\\Downloads\\test_signal.npy\")\n",
    "ECG_labels_test = np.load(r\"C:\\Users\\piotr\\Downloads\\test labels.npy\")\n",
    "for i in range(len(ECG_signal_test)):\n",
    "    ECG_signal_test[i] = z_score_normalization(ECG_signal_test[i])\n",
    "    \n",
    "test_dataset = My1DDataset(ECG_signal_test, ECG_labels_test)\n",
    "test_loader = DataLoader(test_dataset, batch_size=16, shuffle=False)\n",
    "\n",
    "# Evaluate the model on the test set and store outputs\n",
    "logits = []\n",
    "labels_list = []\n",
    "\n",
    "def evaluate_step(engine, batch):\n",
    "    model.eval()\n",
    "    with torch.no_grad():\n",
    "        images, label = batch\n",
    "        images = images.to(device)\n",
    "        label = label.to(device)\n",
    "        outputs = model(images)\n",
    "        logits.append(outputs.cpu().numpy())\n",
    "        labels_list.append(label.cpu().numpy())\n",
    "    return outputs, label\n",
    "\n",
    "evaluator = Engine(evaluate_step)\n",
    "evaluator.run(test_loader)\n",
    "\n",
    "# Concatenate results from test evaluation\n",
    "logits_array = np.concatenate(logits, axis=0)\n",
    "labels_array = np.concatenate(labels_list, axis=0)\n",
    "\n",
    "# Convert logits to probabilities using sigmoid\n",
    "probs = torch.sigmoid(torch.tensor(logits_array)).numpy()\n",
    "preds = (probs > 0.5).astype(int)\n",
    "y_true = labels_array.astype(int)\n",
    "y_pred = preds.astype(int)\n",
    "\n",
    "# Print classification report\n",
    "print(\"\\nClassification Report (Per-Class):\")\n",
    "print(classification_report(y_true, y_pred))"
   ]
  },
  {
   "cell_type": "code",
   "execution_count": 12,
   "metadata": {},
   "outputs": [
    {
     "data": {
      "image/png": "[encoded data removed]",
      "text/plain": [
       "<Figure size 1200x500 with 2 Axes>"
      ]
     },
     "metadata": {},
     "output_type": "display_data"
    },
    {
     "name": "stdout",
     "output_type": "stream",
     "text": [
      "\n",
      "Classification Report (Thresholds from ROC):\n",
      "              precision    recall  f1-score   support\n",
      "\n",
      "           0       0.93      0.90      0.92     10363\n",
      "           1       0.84      0.89      0.87      6273\n",
      "\n",
      "    accuracy                           0.90     16636\n",
      "   macro avg       0.89      0.90      0.89     16636\n",
      "weighted avg       0.90      0.90      0.90     16636\n",
      "\n",
      "\n",
      "Classification Report (Thresholds from PR Curve):\n",
      "              precision    recall  f1-score   support\n",
      "\n",
      "           0       0.92      0.91      0.92     10363\n",
      "           1       0.86      0.88      0.87      6273\n",
      "\n",
      "    accuracy                           0.90     16636\n",
      "   macro avg       0.89      0.89      0.89     16636\n",
      "weighted avg       0.90      0.90      0.90     16636\n",
      "\n"
     ]
    }
   ],
   "source": [
    "import numpy as np\n",
    "import torch\n",
    "import matplotlib.pyplot as plt\n",
    "from sklearn.metrics import roc_curve, precision_recall_curve, auc, f1_score\n",
    "\n",
    "# Compute probabilities (again, if needed) and set number of classes (binary case: 1)\n",
    "probs = torch.sigmoid(torch.tensor(logits_array)).numpy()\n",
    "num_classes = 1\n",
    "optimal_thresholds_roc = np.zeros(num_classes)\n",
    "optimal_thresholds_pr = np.zeros(num_classes)\n",
    "\n",
    "plt.figure(figsize=(12, 5))\n",
    "\n",
    "# For each class, compute ROC and Precision-Recall curves and find optimal thresholds\n",
    "for class_idx in range(num_classes):\n",
    "    class_labels = labels_array[:, class_idx]  # Binary labels\n",
    "    fpr, tpr, roc_thresholds = roc_curve(class_labels, probs[:, class_idx])\n",
    "    roc_auc = auc(fpr, tpr)\n",
    "    \n",
    "    # Youden’s J statistic to find optimal ROC threshold\n",
    "    youden_j = tpr - fpr\n",
    "    optimal_idx_roc = np.argmax(youden_j)\n",
    "    optimal_thresholds_roc[class_idx] = roc_thresholds[optimal_idx_roc]\n",
    "    \n",
    "    precision, recall, pr_thresholds = precision_recall_curve(class_labels, probs[:, class_idx])\n",
    "    pr_auc = auc(recall, precision)\n",
    "    f1_scores = 2 * (precision * recall) / (precision + recall + 1e-8)\n",
    "    optimal_idx_pr = np.argmax(f1_scores)\n",
    "    optimal_thresholds_pr[class_idx] = pr_thresholds[optimal_idx_pr]\n",
    "    \n",
    "    # Plot ROC Curve\n",
    "    plt.subplot(1, 2, 1)\n",
    "    plt.plot(fpr, tpr, label=f'Class {class_idx} (AUC = {roc_auc:.2f})')\n",
    "    plt.scatter(fpr[optimal_idx_roc], tpr[optimal_idx_roc], \n",
    "                label=f'Class {class_idx} Thresh = {optimal_thresholds_roc[class_idx]:.3f}')\n",
    "    \n",
    "    # Plot Precision-Recall Curve\n",
    "    plt.subplot(1, 2, 2)\n",
    "    plt.plot(recall, precision, label=f'Class {class_idx} (AUC = {pr_auc:.2f})')\n",
    "    plt.scatter(recall[optimal_idx_pr], precision[optimal_idx_pr],\n",
    "                label=f'Class {class_idx} Thresh = {optimal_thresholds_pr[class_idx]:.3f}')\n",
    "\n",
    "# Format ROC plot\n",
    "plt.subplot(1, 2, 1)\n",
    "plt.plot([0, 1], [0, 1], linestyle='--', color='gray')\n",
    "plt.xlabel('False Positive Rate')\n",
    "plt.ylabel('True Positive Rate')\n",
    "plt.title('ROC Curves (One-vs-Rest)')\n",
    "\n",
    "# Format Precision-Recall plot\n",
    "plt.subplot(1, 2, 2)\n",
    "plt.xlabel('Recall')\n",
    "plt.ylabel('Precision')\n",
    "plt.title('Precision-Recall Curves (One-vs-Rest)')\n",
    "\n",
    "plt.tight_layout()\n",
    "plt.show()\n",
    "\n",
    "# Apply ROC-based thresholds\n",
    "preds = (probs > optimal_thresholds_roc).astype(int)\n",
    "y_true = labels_array.astype(int)\n",
    "y_pred = preds.astype(int)\n",
    "print(\"\\nClassification Report (Thresholds from ROC):\")\n",
    "print(classification_report(y_true, y_pred))\n",
    "\n",
    "# Alternatively, apply PR-based thresholds\n",
    "preds_pr = (probs > optimal_thresholds_pr).astype(int)\n",
    "y_pred_pr = preds_pr.astype(int)\n",
    "print(\"\\nClassification Report (Thresholds from PR Curve):\")\n",
    "print(classification_report(y_true, y_pred_pr))"
   ]
  },
  {
   "cell_type": "code",
   "execution_count": null,
   "metadata": {},
   "outputs": [],
   "source": []
  }
 ],
 "metadata": {
  "kernelspec": {
   "display_name": "base",
   "language": "python",
   "name": "python3"
  },
  "language_info": {
   "codemirror_mode": {
    "name": "ipython",
    "version": 3
   },
   "file_extension": ".py",
   "mimetype": "text/x-python",
   "name": "python",
   "nbconvert_exporter": "python",
   "pygments_lexer": "ipython3",
   "version": "3.12.7"
  }
 },
 "nbformat": 4,
 "nbformat_minor": 2
}
