{
 "cells": [
  {
   "cell_type": "code",
   "execution_count": null,
   "id": "9d63cb6b-0dcb-42bc-9388-2ab0ede1e248",
   "metadata": {},
   "outputs": [],
   "source": [
    "# %cd C:\\Users\\piotr\\Desktop\\PSG data\n",
    "# %pip install -r requirements.txt\n",
    "import wfdb\n",
    "import mne\n",
    "import numpy as np\n",
    "import pandas as pd\n",
    "import matplotlib.pyplot as plt\n",
    "from sklearn.ensemble import RandomForestClassifier, GradientBoostingClassifier,AdaBoostClassifier\n",
    "from sklearn.metrics import accuracy_score, classification_report, confusion_matrix, hamming_loss,ConfusionMatrixDisplay\n",
    "from sklearn.pipeline import make_pipeline,Pipeline\n",
    "from sklearn.preprocessing import FunctionTransformer,StandardScaler\n",
    "from mne.datasets import sample\n",
    "from sklearn.linear_model import LogisticRegression\n",
    "from sklearn.model_selection import cross_val_score, StratifiedKFold, GridSearchCV\n",
    "from mne_features.feature_extraction import extract_features, FeatureExtractor\n",
    "from sklearn.datasets import load_iris\n",
    "from sklearn.feature_selection import SelectKBest,f_classif\n",
    "import neurokit2 as nk\n",
    "from sklearn.discriminant_analysis import QuadraticDiscriminantAnalysis\n",
    "from sklearn.gaussian_process import GaussianProcessClassifier\n",
    "from sklearn.gaussian_process.kernels import RBF\n",
    "from sklearn.inspection import DecisionBoundaryDisplay\n",
    "from sklearn.model_selection import train_test_split\n",
    "from sklearn.naive_bayes import GaussianNB\n",
    "from sklearn.neighbors import KNeighborsClassifier\n",
    "from sklearn.neural_network import MLPClassifier\n",
    "from sklearn.svm import SVC\n",
    "from sklearn.tree import DecisionTreeClassifier\n",
    "from imblearn.over_sampling import SMOTE\n",
    "from xgboost import XGBClassifier\n",
    "import warnings\n",
    "warnings.filterwarnings(\"ignore\")"
   ]
  },
  {
   "cell_type": "code",
   "execution_count": null,
   "id": "e22a5d2e-bba6-4be8-9f89-af2204c77b29",
   "metadata": {},
   "outputs": [],
   "source": [
    "def data_creation(record_path):\n",
    "    annotation = wfdb.rdann(record_path, extension='apn')\n",
    "    \n",
    "    # Get the sampling frequency from the record\n",
    "    sampling_rate = wfdb.rdrecord(record_path).fs  \n",
    "    \n",
    "    # Convert annotation sample indices to times in seconds\n",
    "    annotation_times = np.array(annotation.sample) / sampling_rate  \n",
    "    \n",
    "    # Extract annotation labels and relable 0 for no apnea and 1 for apnea\n",
    "    annotation_labels = np.where(np.array(annotation.symbol)==\"N\",0, 1).astype(np.int32)\n",
    "    # get the signal\n",
    "    signal,dic = wfdb.rdsamp(record_path)\n",
    "    signal=signal.flatten()\n",
    "    annotation_times = annotation_times[1:-1]  \n",
    "    annotation_labels = annotation_labels[1:-1]\n",
    "    df=pd.DataFrame()\n",
    "    bad_times=[]\n",
    "    for i in range(len(annotation_times)):\n",
    "        try:\n",
    "            # Clean the ECG signal\n",
    "            time=int(annotation_times[i])*sampling_rate\n",
    "            clean = nk.ecg_clean(signal[time-1500:time+1500], sampling_rate=sampling_rate)\n",
    "            \n",
    "            # Compute ECG quality and filter bad segments\n",
    "            quality = np.mean(nk.ecg_quality(clean, sampling_rate=sampling_rate))\n",
    "            \n",
    "            if quality < 0.5:\n",
    "                bad_times.append(i)  # Mark as bad quality\n",
    "                print(f\"Warning: ECG quality check failed at index {i}. Marking as bad data. Error: {e}\")\n",
    "            else:\n",
    "                # Extract features from cleaned ECG\n",
    "                peaks = nk.ecg_peaks(clean, sampling_rate=sampling_rate)\n",
    "                features = nk.hrv(peaks[0], sampling_rate=sampling_rate)  \n",
    "                df = pd.concat([df, features])\n",
    "    \n",
    "        except Exception as e:\n",
    "            # If any error occurs, consider this segment as bad\n",
    "            bad_times.append(i)\n",
    "            print(f\"Warning: ECG quality check failed at index {i}. Marking as bad data. Error: {e}\")\n",
    "    features= df.to_numpy()\n",
    "    labels=np.delete(annotation_labels,bad_times)\n",
    "    return features,labels"
   ]
  },
  {
   "cell_type": "code",
   "execution_count": null,
   "id": "dac7b433-22fe-4b17-ad39-ffa7aeb9f019",
   "metadata": {},
   "outputs": [],
   "source": [
    "list_of_features_train=[]\n",
    "list_of_labels_train=[]\n",
    "list_of_file_names=open(r\"C:\\Users\\piotr\\Desktop\\PSG data\\Apnea ECG\\list_train\").read().split(\"\\n\")\n",
    "for i in list_of_file_names:\n",
    "    record_path=fr\"C:\\Users\\piotr\\Desktop\\PSG data\\Apnea ECG\\{i}\"\n",
    "    features,labels = data_creation(record_path)\n",
    "    list_of_features_train.append(features)\n",
    "    list_of_labels_train.append(labels)"
   ]
  },
  {
   "cell_type": "code",
   "execution_count": null,
   "id": "ed1985c9-beef-4f7b-9814-2315ab99c2ce",
   "metadata": {},
   "outputs": [],
   "source": [
    "extracted_features=np.concatenate(list_of_features_train)\n",
    "extracted_labels=np.concatenate(list_of_labels_train)\n",
    "extracted_features[np.isinf(extracted_features)]=np.nan\n",
    "nan_cols = np.all(np.isnan(extracted_features), axis=0)\n",
    "clean_features = extracted_features[:, ~nan_cols]\n",
    "nan_rows = np.isnan(clean_features).any(axis=1)\n",
    "nan_indexes = np.where(nan_rows)[0]\n",
    "features_cleaned = clean_features[~nan_rows]\n",
    "labels_cleaned = np.delete(extracted_labels, nan_indexes)"
   ]
  },
  {
   "cell_type": "code",
   "execution_count": null,
   "id": "429034d6-f854-47a8-8530-6dadbbbca381",
   "metadata": {},
   "outputs": [],
   "source": [
    "np.save(\"features_cleaned_30s\",features_cleaned)\n",
    "np.save(\"labels_cleaned_30s\",labels_cleaned)"
   ]
  },
  {
   "cell_type": "code",
   "execution_count": null,
   "id": "7a52afac-c0f2-4a33-bf37-2e1613ac5e85",
   "metadata": {},
   "outputs": [],
   "source": [
    "list_of_features_test=[]\n",
    "list_of_labels_test=[]\n",
    "list_of_file_names=open(r\"C:\\Users\\piotr\\Desktop\\PSG data\\Apnea ECG\\list_test\").read().split(\"\\n\")\n",
    "for i in list_of_file_names:\n",
    "    record_path=fr\"C:\\Users\\piotr\\Desktop\\PSG data\\Apnea ECG\\{i}\"\n",
    "    features,labels = data_creation(record_path)\n",
    "    list_of_features_test.append(features)\n",
    "    list_of_labels_test.append(labels)"
   ]
  },
  {
   "cell_type": "code",
   "execution_count": null,
   "id": "e458c769-4514-4cf9-b223-5e36b128142c",
   "metadata": {},
   "outputs": [],
   "source": [
    "extracted_features_test=np.concatenate(list_of_features_test)\n",
    "extracted_labels_test=np.concatenate(list_of_labels_test)\n",
    "extracted_features_test[np.isinf(extracted_features_test)]=np.nan\n",
    "nan_cols = np.all(np.isnan(extracted_features_test), axis=0)\n",
    "clean_features_test = extracted_features_test[:, ~nan_cols]\n",
    "nan_rows = np.isnan(clean_features_test).any(axis=1)\n",
    "nan_indexes = np.where(nan_rows)[0]\n",
    "features_cleaned_test = clean_features_test[~nan_rows]\n",
    "labels_cleaned_test = np.delete(extracted_labels_test, nan_indexes)"
   ]
  },
  {
   "cell_type": "code",
   "execution_count": null,
   "id": "c403070f-231a-4af5-9fee-23840375d781",
   "metadata": {},
   "outputs": [],
   "source": [
    "np.save(\"features_cleaned_30s_test\",features_cleaned_test)\n",
    "np.save(\"labels_cleaned_30s_test\",labels_cleaned_test)"
   ]
  },
  {
   "cell_type": "code",
   "execution_count": null,
   "id": "c139ee57-2e80-4a29-b78c-f923babec447",
   "metadata": {},
   "outputs": [],
   "source": [
    "nan_rows"
   ]
  },
  {
   "cell_type": "code",
   "execution_count": null,
   "id": "91938dbd-3d3c-4e78-b7c7-c85d9ee2e604",
   "metadata": {},
   "outputs": [],
   "source": [
    "np.unique(np.isnan(features_cleaned).any(axis=1))"
   ]
  }
 ],
 "metadata": {
  "kernelspec": {
   "display_name": "Python 3 (ipykernel)",
   "language": "python",
   "name": "python3"
  },
  "language_info": {
   "codemirror_mode": {
    "name": "ipython",
    "version": 3
   },
   "file_extension": ".py",
   "mimetype": "text/x-python",
   "name": "python",
   "nbconvert_exporter": "python",
   "pygments_lexer": "ipython3",
   "version": "3.12.7"
  }
 },
 "nbformat": 4,
 "nbformat_minor": 5
}
